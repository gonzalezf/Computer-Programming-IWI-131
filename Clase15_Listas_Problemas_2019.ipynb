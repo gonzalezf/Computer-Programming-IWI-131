{
 "cells": [
  {
   "cell_type": "markdown",
   "metadata": {
    "slideshow": {
     "slide_type": "slide"
    }
   },
   "source": [
    "<img src=\"images/di.png\" alt=\"\" width=\"200px\" align=\"left\"/>\n",
    "<img src=\"images/utfsm.png\" alt=\"\" width=\"150px\" align=\"right\"/>\n",
    "\n",
    "<br/>\n",
    "<div align=\"center\">\n",
    "<h1>IWI131 Programación</h1><br/>\n",
    "<h2>Resolución de Problemas con Listas</h2>\n",
    "<br/><br/>\n",
    "Departamento de Informática<br/>\n",
    "Universidad Técnica Federico Santa María\n",
    "</div>"
   ]
  },
  {
   "cell_type": "markdown",
   "metadata": {
    "slideshow": {
     "slide_type": "slide"
    }
   },
   "source": [
    "## WARNING: Copiado de listas\n",
    "Es necesario tener precaución cuando se intenta copiar una lista."
   ]
  },
  {
   "cell_type": "code",
   "execution_count": null,
   "metadata": {
    "slideshow": {
     "slide_type": "fragment"
    }
   },
   "outputs": [],
   "source": [
    "a = list(\"514\")\n",
    "b = a\n",
    "b[0] = 1000\n",
    "print(\"a=\",a)\n",
    "print(\"b=\",b)"
   ]
  },
  {
   "cell_type": "markdown",
   "metadata": {
    "slideshow": {
     "slide_type": "fragment"
    }
   },
   "source": [
    "¿Cómo solucionar el problema anterior?"
   ]
  },
  {
   "cell_type": "code",
   "execution_count": null,
   "metadata": {
    "slideshow": {
     "slide_type": "fragment"
    }
   },
   "outputs": [],
   "source": [
    "a = list(\"514\")\n",
    "b = list(a)\n",
    "b[0] = 1000\n",
    "print(\"a=\",a)\n",
    "print(\"b=\",b)"
   ]
  },
  {
   "cell_type": "markdown",
   "metadata": {
    "slideshow": {
     "slide_type": "slide"
    }
   },
   "source": [
    "## WARNING: Copiado de listas\n",
    "Esto también afecta a las funciones."
   ]
  },
  {
   "cell_type": "code",
   "execution_count": null,
   "metadata": {
    "slideshow": {
     "slide_type": "fragment"
    }
   },
   "outputs": [],
   "source": [
    "def funcion_malvada(lista):\n",
    "    lista.append(10)\n",
    "    return sum(lista)"
   ]
  },
  {
   "cell_type": "code",
   "execution_count": null,
   "metadata": {
    "slideshow": {
     "slide_type": "fragment"
    }
   },
   "outputs": [],
   "source": [
    "L=[1,2,3,4]\n",
    "print(L)\n",
    "print(funcion_malvada(L))\n",
    "print(L)"
   ]
  },
  {
   "cell_type": "markdown",
   "metadata": {
    "slideshow": {
     "slide_type": "slide"
    }
   },
   "source": [
    "¿Cómo solucionar el problema anterior?"
   ]
  },
  {
   "cell_type": "code",
   "execution_count": null,
   "metadata": {
    "slideshow": {
     "slide_type": "fragment"
    }
   },
   "outputs": [],
   "source": [
    "L=[1,2,3,4]\n",
    "print(L)\n",
    "print(funcion_malvada(list(L)))\n",
    "print(L)"
   ]
  },
  {
   "cell_type": "markdown",
   "metadata": {
    "slideshow": {
     "slide_type": "fragment"
    }
   },
   "source": [
    "La función `list(L)` crea una copia de una la lista `L`, así no se modifica la original."
   ]
  },
  {
   "cell_type": "markdown",
   "metadata": {
    "slideshow": {
     "slide_type": "slide"
    }
   },
   "source": [
    "## Manejo de listas relacionadas"
   ]
  },
  {
   "cell_type": "markdown",
   "metadata": {
    "slideshow": {
     "slide_type": "fragment"
    }
   },
   "source": [
    "Una asignatura universitaria almacena la lista del curso y sus notas en listas. Todas estas están relacionadas por sus índice. "
   ]
  },
  {
   "cell_type": "code",
   "execution_count": null,
   "metadata": {
    "slideshow": {
     "slide_type": "fragment"
    }
   },
   "outputs": [],
   "source": [
    "curso=['Simón','Sebastian','Rodrigo','Angélica','Pablo','Francisca']\n",
    "c1=[90,60,80,100,75,70]\n",
    "c2=[80,70,70,75,90,100]\n",
    "c3=[65,100,90,90,100,80]"
   ]
  },
  {
   "cell_type": "markdown",
   "metadata": {
    "slideshow": {
     "slide_type": "fragment"
    }
   },
   "source": [
    "Cree un programa que genere e imprima el promedio de cada alumno. Además, muestre el promedio de todo el curso."
   ]
  },
  {
   "cell_type": "code",
   "execution_count": null,
   "metadata": {
    "slideshow": {
     "slide_type": "slide"
    }
   },
   "outputs": [],
   "source": [
    "promedios=[]\n",
    "\n",
    "\n",
    "for indice in list(range(len(curso))):\n",
    "    prom=[c1[indice], c2[indice], c3[indice]]\n",
    "    promedios.append(round(sum(prom)/len(prom)))\n",
    "    print(\"El promedio de\",curso[indice],\"es\",promedios[indice])\n",
    "\n",
    "print(\"El promedio del curso es\", round(sum(promedios)/len(promedios)))"
   ]
  },
  {
   "cell_type": "markdown",
   "metadata": {
    "slideshow": {
     "slide_type": "slide"
    }
   },
   "source": [
    "Realice una función que reciba las listas `curso` y `promedios` como parámetros y determine el alumno con mayor promedio del curso."
   ]
  },
  {
   "cell_type": "code",
   "execution_count": null,
   "metadata": {
    "slideshow": {
     "slide_type": "fragment"
    }
   },
   "outputs": [],
   "source": [
    "def mejor(curso, promedios):\n",
    "    mayor=-1\n",
    "    \n",
    "    for indice in list(range(len(curso))):\n",
    "        if promedios[indice] > mayor: #que pasa si >=?\n",
    "            mayor=promedios[indice]\n",
    "            mejor=curso[indice]\n",
    "    \n",
    "    return mejor"
   ]
  },
  {
   "cell_type": "code",
   "execution_count": null,
   "metadata": {
    "slideshow": {
     "slide_type": "fragment"
    }
   },
   "outputs": [],
   "source": [
    "print(mejor(curso,promedios))"
   ]
  },
  {
   "cell_type": "markdown",
   "metadata": {
    "slideshow": {
     "slide_type": "slide"
    }
   },
   "source": [
    "## Uso de funciones aleatorias para Listas\n",
    "La librería `random` incluye funciones para selección aleatoria desde listas. Echemos un vistazo a la función `choice`."
   ]
  },
  {
   "cell_type": "markdown",
   "metadata": {
    "slideshow": {
     "slide_type": "fragment"
    }
   },
   "source": [
    "El Loto es un juego de azar en donde se seleccionan aleatoriamente 6 números, sin repetirse, de una tombola con valores entre el 1 y el 41. Desarrolle un programa que simule un sorteo."
   ]
  },
  {
   "cell_type": "markdown",
   "metadata": {
    "slideshow": {
     "slide_type": "slide"
    }
   },
   "source": [
    "### Sin Listas"
   ]
  },
  {
   "cell_type": "code",
   "execution_count": null,
   "metadata": {
    "slideshow": {
     "slide_type": "fragment"
    }
   },
   "outputs": [],
   "source": [
    "from random import randint\n",
    "\n",
    "n1=randint(1,41)\n",
    "\n",
    "n2=randint(1,41)\n",
    "while n2==n1:\n",
    "    n2=randint(1,41)\n",
    "    \n",
    "n3=randint(1,41)\n",
    "while n3==n1 or n3==n2:\n",
    "    n3=randint(1,41)\n",
    "\n",
    "n4=randint(1,41)\n",
    "while n4==n1 or n4==n2 or n4==n3:\n",
    "    n4=randint(1,41)\n",
    "\n",
    "n5=randint(1,41)\n",
    "while n5==n1 or n5==n2 or n5==n3 or n5==n4:\n",
    "    n5=randint(1,41)\n",
    "\n",
    "n6=randint(1,41)\n",
    "while n6==n1 or n6==n2 or n6==n3 or n6==n4 or n6==n5:\n",
    "    n6=randint(1,41)\n",
    "    \n",
    "print(\"Los numeros sorteados son:\",n1,n2,n3,n4,n5,n6)"
   ]
  },
  {
   "cell_type": "markdown",
   "metadata": {
    "slideshow": {
     "slide_type": "slide"
    }
   },
   "source": [
    "### Con Listas"
   ]
  },
  {
   "cell_type": "code",
   "execution_count": null,
   "metadata": {
    "slideshow": {
     "slide_type": "fragment"
    }
   },
   "outputs": [],
   "source": [
    "from random import choice\n",
    "\n",
    "sorteo=[]\n",
    "tombola=list(range(1,41))\n",
    "\n",
    "while len(sorteo)<6:\n",
    "    x=choice(tombola)\n",
    "    sorteo.append(x)\n",
    "    tombola.remove(x)\n",
    "\n",
    "print(\"Los numeros sorteados son:\", sorteo)"
   ]
  }
 ],
 "metadata": {
  "anaconda-cloud": {},
  "celltoolbar": "Slideshow",
  "kernelspec": {
   "display_name": "Python 3",
   "language": "python",
   "name": "python3"
  },
  "language_info": {
   "codemirror_mode": {
    "name": "ipython",
    "version": 3
   },
   "file_extension": ".py",
   "mimetype": "text/x-python",
   "name": "python",
   "nbconvert_exporter": "python",
   "pygments_lexer": "ipython3",
   "version": "3.7.3"
  }
 },
 "nbformat": 4,
 "nbformat_minor": 1
}
