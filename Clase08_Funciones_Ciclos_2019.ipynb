{
 "cells": [
  {
   "cell_type": "markdown",
   "metadata": {
    "slideshow": {
     "slide_type": "slide"
    }
   },
   "source": [
    "<img src=\"images/di.png\" alt=\"\" width=\"200px\" align=\"left\"/>\n",
    "<img src=\"images/utfsm.png\" alt=\"\" width=\"150px\" align=\"right\"/>\n",
    "\n",
    "<br/>\n",
    "<div align=\"center\">\n",
    "<h1>IWI131 Programación</h1><br/>\n",
    "<h2>Descomposición en Funciones y Ciclos Anidados</h2>\n",
    "<br/><br/>\n",
    "Departamento de Informática<br/>\n",
    "Universidad Técnica Federico Santa María\n",
    "</div>"
   ]
  },
  {
   "cell_type": "markdown",
   "metadata": {
    "slideshow": {
     "slide_type": "slide"
    }
   },
   "source": [
    "# Descomposición en Funciones"
   ]
  },
  {
   "cell_type": "markdown",
   "metadata": {
    "slideshow": {
     "slide_type": "fragment"
    }
   },
   "source": [
    "Como dice el refrán: **Divide y Vencerás**... Es posible resolver un problema difícil, dividiéndolo en subproblemas más simples (en la medida de lo posible). La idea es resolver el problema principal, utilizando las soluciones de los\n",
    "subproblemas."
   ]
  },
  {
   "cell_type": "markdown",
   "metadata": {
    "slideshow": {
     "slide_type": "slide"
    }
   },
   "source": [
    "En el mundo de la informática, es muy frecuente que se resuelvan los problemas de esta forma, siendo uno de los paradigmas más importantes en el diseño de algoritmos. Un pequeño esquema podría ser:\n",
    "\n",
    "```\n",
    "Problema:\n",
    "    Subproblema 1\n",
    "    Subproblema 2\n",
    "    ...\n",
    "    Subproblema N\n",
    "```"
   ]
  },
  {
   "cell_type": "markdown",
   "metadata": {
    "slideshow": {
     "slide_type": "slide"
    }
   },
   "source": [
    "## Subproblema a Función"
   ]
  },
  {
   "cell_type": "markdown",
   "metadata": {
    "slideshow": {
     "slide_type": "fragment"
    }
   },
   "source": [
    "Recordando los contenidos vistos en clases anteriores, podríamos relacionar cada subproblema a una función. De esta forma el esquema anterior quedaría más o menos así:"
   ]
  },
  {
   "cell_type": "markdown",
   "metadata": {
    "slideshow": {
     "slide_type": "slide"
    }
   },
   "source": [
    "```python\n",
    "# Inicio de mi algoritmo (problema):\n",
    "def funcion1(...):\n",
    "    Instrucciones\n",
    "def funcion2(...):\n",
    "    Instrucciones\n",
    "....\n",
    "Instrucciones\n",
    "funcion1(...)\n",
    "Instrucciones\n",
    "funcion2(...)\n",
    "...\n",
    "# Fin de mi algoritmo```"
   ]
  },
  {
   "cell_type": "markdown",
   "metadata": {
    "slideshow": {
     "slide_type": "slide"
    }
   },
   "source": [
    "En resumen, buscamos descomponer nuestro algoritmo en funciones, integrar estas funciones y finalmente obtener nuestra solución."
   ]
  },
  {
   "cell_type": "markdown",
   "metadata": {
    "slideshow": {
     "slide_type": "fragment"
    }
   },
   "source": [
    "Ahora el problema está en la capacidad de encontrar los subproblemas... Pero generalmente son bastante simples de identificar :)"
   ]
  },
  {
   "cell_type": "markdown",
   "metadata": {
    "slideshow": {
     "slide_type": "slide"
    }
   },
   "source": [
    "## Variables Globales y Locales"
   ]
  },
  {
   "cell_type": "markdown",
   "metadata": {
    "slideshow": {
     "slide_type": "fragment"
    }
   },
   "source": [
    "Si bien hay una definición mucho más completa de los tipos de variables *Globales* y *Locales*, para nosotros bastará diferenciarlas de la siguiente manera:\n",
    "* **Variable local**: es una variable que sólo se usa dentro del código de una función. \n",
    "* **Variable global**: es una variable que se puede utilizar en cualquier parte del programa, inclusive al interior de una función.\n",
    "\n",
    "A continuación un pequeño ejemplo..."
   ]
  },
  {
   "cell_type": "markdown",
   "metadata": {
    "slideshow": {
     "slide_type": "slide"
    }
   },
   "source": [
    "**Ejemplo**\n",
    "\n",
    "La fuerza de atracción gravitacional entre dos planetas de masas $m_1$ y $m_2$ separados por una distancia de $r$\n",
    "kilómetros está dada por la fórmula:\n",
    "\n",
    "$$\n",
    "F = \\frac{G\\,m_1\\,m_2}{r^2},\n",
    "$$\n",
    "\n",
    "donde $G = 6,67428\\times 10^{−11}$ [m$^3$ kg$^{−1}$ s$^{−2}$] es la constante de gravitación universal.\n",
    "\n",
    "Escriba un programa que pregunte las masas de los planetas y su distancia, y entregue la fuerza de atracción entre ellos."
   ]
  },
  {
   "cell_type": "markdown",
   "metadata": {
    "slideshow": {
     "slide_type": "slide"
    }
   },
   "source": [
    "Opción 1, utilizando $G$ como variable **global**."
   ]
  },
  {
   "cell_type": "code",
   "execution_count": 1,
   "metadata": {
    "slideshow": {
     "slide_type": "fragment"
    }
   },
   "outputs": [
    {
     "name": "stdout",
     "output_type": "stream",
     "text": [
      "m1: 5\n",
      "m2: 1000\n",
      "Distancia: 10\n",
      "La fuerza de atraccion es 3.3371399999999995e-09\n"
     ]
    }
   ],
   "source": [
    "G = 6.67428e-11 # Variable global. Puede ser utilizada en cualquier parte del código\n",
    "\n",
    "def cgu(masa1, masa2, radio):\n",
    "    # La variable fuerza se comporta como variable local, \n",
    "    # solo se conoce dentro de la función cgu\n",
    "    fuerza = G * masa1 * masa2 / (radio ** 2) \n",
    "    return fuerza\n",
    "\n",
    "m1 = float(input('m1: '))\n",
    "m2 = float(input('m2: '))\n",
    "r = float(input('Distancia: '))\n",
    "print('La fuerza de atraccion es', cgu(m1, m2, r))"
   ]
  },
  {
   "cell_type": "markdown",
   "metadata": {
    "slideshow": {
     "slide_type": "slide"
    }
   },
   "source": [
    "Opción 2, utilizando $G$ como variable **local**."
   ]
  },
  {
   "cell_type": "code",
   "execution_count": 11,
   "metadata": {
    "slideshow": {
     "slide_type": "fragment"
    }
   },
   "outputs": [
    {
     "name": "stdout",
     "output_type": "stream",
     "text": [
      "m1: 1\n",
      "m2: 1\n",
      "Distancia: 1\n",
      "La fuerza de atraccion es 6.67428e-11\n"
     ]
    }
   ],
   "source": [
    "def cgu(masa1, masa2, radio):\n",
    "    # Tanto fuerza como G son variables locales que solo se conocen en cgu.\n",
    "    G = 6.67428e-11\n",
    "    fuerza = G * masa1 * masa2 / (radio ** 2) \n",
    "    return fuerza\n",
    "\n",
    "m1 = float(input('m1: '))\n",
    "m2 = float(input('m2: '))\n",
    "r = float(input('Distancia: '))\n",
    "print('La fuerza de atraccion es', cgu(m1, m2, r))"
   ]
  },
  {
   "cell_type": "markdown",
   "metadata": {
    "slideshow": {
     "slide_type": "slide"
    }
   },
   "source": [
    "# Ciclos Anidados"
   ]
  },
  {
   "cell_type": "markdown",
   "metadata": {
    "slideshow": {
     "slide_type": "fragment"
    }
   },
   "source": [
    "Como su nombre lo dice, hay problemas en los cuales es necesario utilizar una estructura repetitiva dentro de otra estructura repetiva. Sintaxis general:\n",
    "\n",
    "```\n",
    "ciclo:\n",
    "    ciclo:\n",
    "        ciclo:\n",
    "            ...\n",
    "```"
   ]
  },
  {
   "cell_type": "markdown",
   "metadata": {
    "slideshow": {
     "slide_type": "slide"
    }
   },
   "source": [
    "Y en Python:\n",
    "\n",
    "```python\n",
    "while condicion:\n",
    "    while condicion:\n",
    "        while condicion:\n",
    "            instrucciones\n",
    "            ...\n",
    "```"
   ]
  },
  {
   "cell_type": "markdown",
   "metadata": {
    "slideshow": {
     "slide_type": "slide"
    }
   },
   "source": [
    "**Pequeño Ejemplo**\n",
    "\n",
    "Escriba un programa que muestre todas las combinaciones de dos dados que entreguen un puntaje mayor que siete."
   ]
  },
  {
   "cell_type": "code",
   "execution_count": 2,
   "metadata": {
    "slideshow": {
     "slide_type": "fragment"
    }
   },
   "outputs": [
    {
     "name": "stdout",
     "output_type": "stream",
     "text": [
      "2 6\n",
      "3 5\n",
      "3 6\n",
      "4 4\n",
      "4 5\n",
      "4 6\n",
      "5 3\n",
      "5 4\n",
      "5 5\n",
      "5 6\n",
      "6 2\n",
      "6 3\n",
      "6 4\n",
      "6 5\n",
      "6 6\n"
     ]
    }
   ],
   "source": [
    "dado_1 = 1\n",
    "while dado_1 <= 6:\n",
    "    dado_2 = 1\n",
    "    while dado_2 <= 6:\n",
    "        if dado_1 + dado_2 > 7:\n",
    "            print(dado_1, dado_2)\n",
    "        dado_2 += 1\n",
    "    dado_1 += 1"
   ]
  },
  {
   "cell_type": "markdown",
   "metadata": {
    "slideshow": {
     "slide_type": "slide"
    }
   },
   "source": [
    "Y para que el puntaje sea mayor a 12?"
   ]
  },
  {
   "cell_type": "markdown",
   "metadata": {
    "slideshow": {
     "slide_type": "slide"
    }
   },
   "source": [
    "**Otro ejemplo**\n",
    "\n",
    "Imprimir (mostrar) todos los números primos en un rango particular recibido como entrada."
   ]
  },
  {
   "cell_type": "code",
   "execution_count": 3,
   "metadata": {
    "slideshow": {
     "slide_type": "slide"
    }
   },
   "outputs": [
    {
     "name": "stdout",
     "output_type": "stream",
     "text": [
      "Ingrese a: 0\n",
      "Ingrese b: 10\n",
      "0\n",
      "1\n",
      "2\n",
      "3\n",
      "5\n",
      "7\n"
     ]
    }
   ],
   "source": [
    "# Suponiendo que el rango es siempre correcto (no hay que verificar)\n",
    "a = int(input(\"Ingrese a: \"))\n",
    "b = int(input(\"Ingrese b: \"))\n",
    "\n",
    "# Variable que utilizaremos para probar si es primo\n",
    "n = a\n",
    "\n",
    "while n <= b:\n",
    "    d = 2 # Variable para buscar divisores\n",
    "    n_divisores = 0 # Contador para numero de divisores\n",
    "    while d <= n/2:\n",
    "        if n % d == 0:\n",
    "            n_divisores += 1\n",
    "        d += 1\n",
    "    \n",
    "    # Mostramos el numero si es primo\n",
    "    if n_divisores == 0:\n",
    "        print(n)\n",
    "        \n",
    "    # Seguimos con el proximo numero\n",
    "    n += 1"
   ]
  },
  {
   "cell_type": "markdown",
   "metadata": {
    "slideshow": {
     "slide_type": "slide"
    }
   },
   "source": [
    "# Ejercicios"
   ]
  },
  {
   "cell_type": "markdown",
   "metadata": {
    "slideshow": {
     "slide_type": "fragment"
    }
   },
   "source": [
    "Apliquemos los conceptos revisados en esta clase."
   ]
  },
  {
   "cell_type": "markdown",
   "metadata": {
    "slideshow": {
     "slide_type": "slide"
    }
   },
   "source": [
    "1. Aproxime la función $e^x$ utilizando *Serie de Taylor*:\n",
    "\n",
    "\\begin{equation}\n",
    "    e^x \\approx \\sum_{n=0}^{N} \\frac{x^n}{n!}, \\quad \\forall x \\in \\mathbb{R}, \\, n\\in\\mathbb{N}_0\n",
    "\\end{equation}"
   ]
  },
  {
   "cell_type": "code",
   "execution_count": 17,
   "metadata": {
    "slideshow": {
     "slide_type": "slide"
    }
   },
   "outputs": [
    {
     "name": "stdout",
     "output_type": "stream",
     "text": [
      "Ingrese N: 10\n",
      "Ingrese x: 5\n",
      "Valor aproximacion:  146.38060102513225\n"
     ]
    }
   ],
   "source": [
    "N = int(input(\"Ingrese N: \"))\n",
    "x = float(input(\"Ingrese x: \"))\n",
    "\n",
    "n = 0\n",
    "exp = 0\n",
    "while n <= N:\n",
    "    \n",
    "    # Calculo de factorial\n",
    "    prod = 1\n",
    "    i = 1\n",
    "    while i <= n:\n",
    "        prod *= i\n",
    "        i += 1\n",
    "        \n",
    "    # Actualizar acumulador\n",
    "    exp = exp + (x ** n) / prod\n",
    "    \n",
    "    n += 1 \n",
    "    \n",
    "print(\"Valor aproximacion: \", exp)"
   ]
  },
  {
   "cell_type": "markdown",
   "metadata": {
    "slideshow": {
     "slide_type": "slide"
    }
   },
   "source": [
    "Resolvamos el mismo ejercicio pero descomponiendo el problema."
   ]
  },
  {
   "cell_type": "code",
   "execution_count": 4,
   "metadata": {
    "slideshow": {
     "slide_type": "slide"
    }
   },
   "outputs": [],
   "source": [
    "def factorial(n):\n",
    "    prod = 1\n",
    "    i = 1\n",
    "    while i <= n:\n",
    "        prod *= i\n",
    "        i += 1\n",
    "    return prod"
   ]
  },
  {
   "cell_type": "code",
   "execution_count": 5,
   "metadata": {
    "slideshow": {
     "slide_type": "slide"
    }
   },
   "outputs": [],
   "source": [
    "def aproximacion(N, x):\n",
    "    n = 0\n",
    "    exp = 0\n",
    "    while n <= N:\n",
    "        exp += (x ** n) / factorial(n)\n",
    "        n += 1\n",
    "    return exp"
   ]
  },
  {
   "cell_type": "code",
   "execution_count": 6,
   "metadata": {
    "slideshow": {
     "slide_type": "slide"
    }
   },
   "outputs": [
    {
     "name": "stdout",
     "output_type": "stream",
     "text": [
      "Ingrese N: 100\n",
      "Ingrese x: 1\n",
      "Valor aproximacion:  2.7182818284590455\n"
     ]
    }
   ],
   "source": [
    "N = int(input(\"Ingrese N: \"))\n",
    "x = float(input(\"Ingrese x: \"))\n",
    "\n",
    "exp_aprox = aproximacion(N, x)\n",
    "\n",
    "print(\"Valor aproximacion: \", exp_aprox)"
   ]
  },
  {
   "cell_type": "markdown",
   "metadata": {
    "slideshow": {
     "slide_type": "slide"
    }
   },
   "source": [
    "2. Basándose en el ejercicio anterior. Calcule la aproximación de $e^x$ hasta que la diferencia entre dos sumandos sucesivos sea menor a un $\\varepsilon$."
   ]
  },
  {
   "cell_type": "code",
   "execution_count": 29,
   "metadata": {
    "slideshow": {
     "slide_type": "slide"
    }
   },
   "outputs": [
    {
     "name": "stdout",
     "output_type": "stream",
     "text": [
      "Ingrese x: 5\n",
      "Ingrese epsilon: 1e-14\n",
      "Aproximacion:  148.41315910257657\n",
      "Numero de terminos:  32\n"
     ]
    }
   ],
   "source": [
    "x = float(input(\"Ingrese x: \"))\n",
    "eps = float(input(\"Ingrese epsilon: \"))\n",
    "\n",
    "flag = True\n",
    "\n",
    "n = 1\n",
    "while flag:\n",
    "    aprox_1 = aproximacion(n, x)\n",
    "    aprox_2 = aproximacion(n+1, x)\n",
    "    \n",
    "    if abs(aprox_1 - aprox_2) < eps:\n",
    "        flag = False\n",
    "    else:\n",
    "        n += 1\n",
    "        \n",
    "print(\"Aproximacion: \", aprox_2)\n",
    "print(\"Numero de terminos: \", n)"
   ]
  },
  {
   "cell_type": "markdown",
   "metadata": {
    "slideshow": {
     "slide_type": "slide"
    }
   },
   "source": [
    "Solo por curiosidad..."
   ]
  },
  {
   "cell_type": "code",
   "execution_count": 31,
   "metadata": {
    "slideshow": {
     "slide_type": "fragment"
    }
   },
   "outputs": [
    {
     "name": "stdout",
     "output_type": "stream",
     "text": [
      "148.4131591025766\n"
     ]
    }
   ],
   "source": [
    "from math import exp\n",
    "print(exp(x))"
   ]
  },
  {
   "cell_type": "markdown",
   "metadata": {
    "slideshow": {
     "slide_type": "slide"
    }
   },
   "source": [
    "3. En cada ronda del juego del cachipún, los dos competidores deben elegir entre jugar tijera, papel o piedra. Las reglas para decidir quién gana la ronda son: tijera le gana a papel, papel le gana a piedra, piedra le gana a tijera, y todas las demás combinaciones son empates. \n",
    "\n",
    "El ganador del juego es el primero que gane tres rondas.\n",
    "\n",
    "Escriba un programa que pregunte a cada jugador cuál es su jugada, muestre cuál es el marcador después de cada ronda, y termine cuando uno de ellos haya ganado tres rondas. Los jugadores deben indicar su jugada escribiendo tijera, papel o piedra."
   ]
  },
  {
   "cell_type": "code",
   "execution_count": 11,
   "metadata": {
    "slideshow": {
     "slide_type": "slide"
    }
   },
   "outputs": [],
   "source": [
    "def cachipun(j1, j2):\n",
    "    gana = 0 # Para manejar el empate\n",
    "    if j1 == 'piedra':\n",
    "        if j2 == 'papel':\n",
    "            gana = 0\n",
    "        elif j2 == 'tijera':\n",
    "            gana = 1\n",
    "    elif j1 == 'papel':\n",
    "        if j2 == 'piedra':\n",
    "            gana = 1\n",
    "        elif j2 == 'tijera':\n",
    "            gana = 0\n",
    "    else:\n",
    "        if j2 == 'piedra':\n",
    "            gana = 0\n",
    "        elif j2 == 'papel':\n",
    "            gana = 1\n",
    "    return gana"
   ]
  },
  {
   "cell_type": "code",
   "execution_count": 12,
   "metadata": {
    "slideshow": {
     "slide_type": "slide"
    }
   },
   "outputs": [
    {
     "name": "stdout",
     "output_type": "stream",
     "text": [
      "Jugador 1: papel\n",
      "Jugador 2: tijera\n",
      "Marcador:  0  -  1\n",
      "Jugador 1: tijera\n",
      "Jugador 2: papel\n",
      "Marcador:  1  -  1\n",
      "Jugador 1: piedra\n",
      "Jugador 2: piedra\n",
      "Marcador:  1  -  1\n",
      "Jugador 1: piedra\n",
      "Jugador 2: tijera\n",
      "Marcador:  2  -  1\n",
      "Jugador 1: tijera\n",
      "Jugador 2: papel\n",
      "Marcador:  3  -  1\n",
      "Gana jugador 1\n"
     ]
    }
   ],
   "source": [
    "p1 = 0\n",
    "p2 = 0\n",
    "\n",
    "while p1 < 3 and p2 < 3:\n",
    "    jug_1 = input(\"Jugador 1: \")\n",
    "    jug_2 = input(\"Jugador 2: \")\n",
    "    \n",
    "    if jug_1 != jug_2:\n",
    "        res = cachipun(jug_1, jug_2)\n",
    "        p1 += res\n",
    "        p2 += (1 - res)\n",
    "    \n",
    "    print(\"Marcador: \", p1, \" - \", p2)\n",
    "        \n",
    "if p1 > p2:\n",
    "    print(\"Gana jugador 1\")\n",
    "else:\n",
    "    print(\"Gana jugador 2\")"
   ]
  },
  {
   "cell_type": "markdown",
   "metadata": {
    "slideshow": {
     "slide_type": "slide"
    }
   },
   "source": [
    "4. El **método de Newton** es un algoritmo para encontrar aproximaciones de los ceros o raíces de una función real.\n",
    "\n",
    "\\begin{equation}\n",
    "    x_{n+1} = x_n - \\frac{f(x_n)}{f'(x_n)}.\n",
    "\\end{equation}\n",
    "\n",
    "Calcule $\\sqrt{2}$, sabiendo que $f(x)=x^2-2$, $f'(x)=2x$. El número máximo de iteraciones $N$ y $x_0$ son entradas del programa."
   ]
  },
  {
   "cell_type": "code",
   "execution_count": 11,
   "metadata": {
    "slideshow": {
     "slide_type": "slide"
    }
   },
   "outputs": [
    {
     "name": "stdout",
     "output_type": "stream",
     "text": [
      "Ingrese valor inicial: 1000\n",
      "Ingrese numero de iteraciones: 10\n",
      "La raiz de 2 es aproximadamente:  1.5795487524060154\n"
     ]
    }
   ],
   "source": [
    "def f(x):\n",
    "    return x**2 - 2\n",
    "\n",
    "def df(x):\n",
    "    return 2*x\n",
    "\n",
    "def metodo_newton(x_0, N):\n",
    "    n = 1\n",
    "    x = x_0 # Valor inicial\n",
    "    while n <= N:\n",
    "        x = x - f(x) / df(x)\n",
    "        n += 1\n",
    "    return x\n",
    "\n",
    "x_0 = float(input(\"Ingrese valor inicial: \"))\n",
    "N = int(input(\"Ingrese numero de iteraciones: \"))\n",
    "\n",
    "sol = metodo_newton(x_0, N)\n",
    "\n",
    "print(\"La raiz de 2 es aproximadamente: \", sol)"
   ]
  },
  {
   "cell_type": "markdown",
   "metadata": {
    "slideshow": {
     "slide_type": "slide"
    }
   },
   "source": [
    "Nuevamente por curiosidad..."
   ]
  },
  {
   "cell_type": "code",
   "execution_count": 12,
   "metadata": {
    "slideshow": {
     "slide_type": "fragment"
    }
   },
   "outputs": [
    {
     "name": "stdout",
     "output_type": "stream",
     "text": [
      "1.4142135623730951\n"
     ]
    }
   ],
   "source": [
    "from math import sqrt\n",
    "print(sqrt(2))"
   ]
  },
  {
   "cell_type": "code",
   "execution_count": 13,
   "metadata": {
    "slideshow": {
     "slide_type": "fragment"
    }
   },
   "outputs": [
    {
     "name": "stdout",
     "output_type": "stream",
     "text": [
      "0.1653351900329203\n"
     ]
    }
   ],
   "source": [
    "print(abs(sol-sqrt(2)))"
   ]
  }
 ],
 "metadata": {
  "celltoolbar": "Slideshow",
  "kernelspec": {
   "display_name": "Python 3",
   "language": "python",
   "name": "python3"
  },
  "language_info": {
   "codemirror_mode": {
    "name": "ipython",
    "version": 3
   },
   "file_extension": ".py",
   "mimetype": "text/x-python",
   "name": "python",
   "nbconvert_exporter": "python",
   "pygments_lexer": "ipython3",
   "version": "3.7.2"
  }
 },
 "nbformat": 4,
 "nbformat_minor": 2
}
