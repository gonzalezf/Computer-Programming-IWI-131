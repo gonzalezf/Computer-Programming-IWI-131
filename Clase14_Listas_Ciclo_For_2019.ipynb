{
 "cells": [
  {
   "cell_type": "markdown",
   "metadata": {
    "slideshow": {
     "slide_type": "slide"
    }
   },
   "source": [
    "<img src=\"images/di.png\" alt=\"\" width=\"200px\" align=\"left\"/>\n",
    "<img src=\"images/utfsm.png\" alt=\"\" width=\"150px\" align=\"right\"/>\n",
    "\n",
    "<br/>\n",
    "<div align=\"center\">\n",
    "<h1>IWI131 Programación</h1><br/>\n",
    "<h2>Estructuras de Datos: Listas</h2>\n",
    "<br/><br/>\n",
    "Departamento de Informática<br/>\n",
    "Universidad Técnica Federico Santa María\n",
    "</div>"
   ]
  },
  {
   "cell_type": "markdown",
   "metadata": {
    "collapsed": true,
    "slideshow": {
     "slide_type": "slide"
    }
   },
   "source": [
    "# Listas"
   ]
  },
  {
   "cell_type": "markdown",
   "metadata": {
    "slideshow": {
     "slide_type": "fragment"
    }
   },
   "source": [
    "- Colección o secuencia de valores\n",
    "- Pueden contener básicamente cualquier cosa"
   ]
  },
  {
   "cell_type": "markdown",
   "metadata": {
    "slideshow": {
     "slide_type": "fragment"
    }
   },
   "source": [
    "## Creación de Listas\n",
    "- Usando corchetes []\n",
    "- Usando la función `list()`"
   ]
  },
  {
   "cell_type": "markdown",
   "metadata": {
    "slideshow": {
     "slide_type": "slide"
    }
   },
   "source": [
    "### Lista vacía"
   ]
  },
  {
   "cell_type": "code",
   "execution_count": 1,
   "metadata": {
    "slideshow": {
     "slide_type": "fragment"
    }
   },
   "outputs": [
    {
     "name": "stdout",
     "output_type": "stream",
     "text": [
      "[]\n",
      "[]\n"
     ]
    }
   ],
   "source": [
    "a = []\n",
    "b = list()\n",
    "print(a)\n",
    "print(b)"
   ]
  },
  {
   "cell_type": "markdown",
   "metadata": {
    "slideshow": {
     "slide_type": "slide"
    }
   },
   "source": [
    "### Lista con elementos"
   ]
  },
  {
   "cell_type": "code",
   "execution_count": 6,
   "metadata": {
    "slideshow": {
     "slide_type": "fragment"
    }
   },
   "outputs": [
    {
     "name": "stdout",
     "output_type": "stream",
     "text": [
      "[1, 2, 3, 4]\n",
      "['hola', 2, [1, 2], '3']\n"
     ]
    }
   ],
   "source": [
    "a = [1,2,3,4]\n",
    "palabra = \"hola\"\n",
    "b = list([palabra,2,[1,2],'3'])\n",
    "print(a)\n",
    "print(b)"
   ]
  },
  {
   "cell_type": "markdown",
   "metadata": {
    "slideshow": {
     "slide_type": "slide"
    }
   },
   "source": [
    "¿Qué hace la siguiente operación?"
   ]
  },
  {
   "cell_type": "code",
   "execution_count": 9,
   "metadata": {
    "slideshow": {
     "slide_type": "fragment"
    }
   },
   "outputs": [
    {
     "name": "stdout",
     "output_type": "stream",
     "text": [
      "['a', 'b', 'c']\n"
     ]
    }
   ],
   "source": [
    "c = list(\"abc\")\n",
    "print(c)"
   ]
  },
  {
   "cell_type": "code",
   "execution_count": 7,
   "metadata": {
    "slideshow": {
     "slide_type": "fragment"
    }
   },
   "outputs": [
    {
     "name": "stdout",
     "output_type": "stream",
     "text": [
      "[1, 2, 3, 4]\n"
     ]
    }
   ],
   "source": [
    "d = list([1,2,3,4])\n",
    "print(d)"
   ]
  },
  {
   "cell_type": "markdown",
   "metadata": {
    "slideshow": {
     "slide_type": "fragment"
    }
   },
   "source": [
    "La función `list(ite)` convierte a lista al tipo de dato dado por la variable `ite`. Cada elemento de `ite` es agregado a una lista."
   ]
  },
  {
   "cell_type": "markdown",
   "metadata": {
    "slideshow": {
     "slide_type": "slide"
    }
   },
   "source": [
    "## Rangos\n",
    "La función `range` genera una secuencia de números ordenados. "
   ]
  },
  {
   "cell_type": "markdown",
   "metadata": {
    "slideshow": {
     "slide_type": "fragment"
    }
   },
   "source": [
    "- Existen varias formas de usar esta función.\n",
    "- Se pueden crear listas a partir de las secuencias de `range`."
   ]
  },
  {
   "cell_type": "markdown",
   "metadata": {
    "slideshow": {
     "slide_type": "slide"
    }
   },
   "source": [
    "`range(fin)` genera una secuencia de `fin` números ordenados desde `0` hasta `fin-1`."
   ]
  },
  {
   "cell_type": "code",
   "execution_count": 11,
   "metadata": {
    "slideshow": {
     "slide_type": "fragment"
    }
   },
   "outputs": [
    {
     "name": "stdout",
     "output_type": "stream",
     "text": [
      "range(0, 3)\n"
     ]
    }
   ],
   "source": [
    "#rango de 3 numeros\n",
    "a = range(3)\n",
    "print(a)"
   ]
  },
  {
   "cell_type": "code",
   "execution_count": 12,
   "metadata": {
    "slideshow": {
     "slide_type": "fragment"
    }
   },
   "outputs": [
    {
     "name": "stdout",
     "output_type": "stream",
     "text": [
      "[0, 1, 2]\n"
     ]
    }
   ],
   "source": [
    "#usando la funcion list para convertir una secuencia a lista\n",
    "b = list(a)\n",
    "print(b)"
   ]
  },
  {
   "cell_type": "markdown",
   "metadata": {
    "slideshow": {
     "slide_type": "slide"
    }
   },
   "source": [
    "`range(inicio,fin)` genera una secuencia de números ordenados, iniciada en `inicio` y terminada en `fin-1`."
   ]
  },
  {
   "cell_type": "code",
   "execution_count": 13,
   "metadata": {
    "slideshow": {
     "slide_type": "fragment"
    }
   },
   "outputs": [
    {
     "name": "stdout",
     "output_type": "stream",
     "text": [
      "range(2, 7)\n"
     ]
    }
   ],
   "source": [
    "#rango de numeros desde el 2 al 7\n",
    "c = range(2,7)\n",
    "print(c)"
   ]
  },
  {
   "cell_type": "code",
   "execution_count": 14,
   "metadata": {
    "slideshow": {
     "slide_type": "fragment"
    }
   },
   "outputs": [
    {
     "name": "stdout",
     "output_type": "stream",
     "text": [
      "[2, 3, 4, 5, 6]\n"
     ]
    }
   ],
   "source": [
    "#usando la funcion list para convertir una secuencia a lista\n",
    "d = list(range(2,7))\n",
    "print(d)"
   ]
  },
  {
   "cell_type": "markdown",
   "metadata": {
    "slideshow": {
     "slide_type": "slide"
    }
   },
   "source": [
    "`range(inicio, fin, salto)` genera una secuencia de números ordenados, iniciada en `inicio`, hasta antes de llegar a `fin`, con saltos entre cada número de la secuencia de `salto`."
   ]
  },
  {
   "cell_type": "code",
   "execution_count": 16,
   "metadata": {
    "slideshow": {
     "slide_type": "fragment"
    }
   },
   "outputs": [
    {
     "data": {
      "text/plain": [
       "range(2, 10, 3)"
      ]
     },
     "execution_count": 16,
     "metadata": {},
     "output_type": "execute_result"
    }
   ],
   "source": [
    "#rango de numeros desde el 2 hasta el 10 con saltos de 3\n",
    "range(2,10,3)"
   ]
  },
  {
   "cell_type": "code",
   "execution_count": 19,
   "metadata": {
    "slideshow": {
     "slide_type": "fragment"
    }
   },
   "outputs": [
    {
     "name": "stdout",
     "output_type": "stream",
     "text": [
      "[2, 5, 8]\n"
     ]
    }
   ],
   "source": [
    "#usando la funcion list para convertir una secuencia a lista\n",
    "f = list(range(2,10,3))\n",
    "print(f)"
   ]
  },
  {
   "cell_type": "markdown",
   "metadata": {
    "slideshow": {
     "slide_type": "slide"
    }
   },
   "source": [
    "## Indexación en listas\n",
    "Las listas tienen índices para enumerar sus elementos, de manera similar que con strings."
   ]
  },
  {
   "cell_type": "code",
   "execution_count": 20,
   "metadata": {
    "slideshow": {
     "slide_type": "fragment"
    }
   },
   "outputs": [
    {
     "name": "stdout",
     "output_type": "stream",
     "text": [
      "2\n"
     ]
    }
   ],
   "source": [
    "a = [1,2,3,4]\n",
    "print(a[1])"
   ]
  },
  {
   "cell_type": "code",
   "execution_count": 21,
   "metadata": {
    "slideshow": {
     "slide_type": "fragment"
    }
   },
   "outputs": [
    {
     "ename": "IndexError",
     "evalue": "list index out of range",
     "output_type": "error",
     "traceback": [
      "\u001b[0;31m---------------------------------------------------------------------------\u001b[0m",
      "\u001b[0;31mIndexError\u001b[0m                                Traceback (most recent call last)",
      "\u001b[0;32m<ipython-input-21-45a6398849db>\u001b[0m in \u001b[0;36m<module>\u001b[0;34m()\u001b[0m\n\u001b[0;32m----> 1\u001b[0;31m \u001b[0mprint\u001b[0m\u001b[0;34m(\u001b[0m\u001b[0ma\u001b[0m\u001b[0;34m[\u001b[0m\u001b[0;36m10\u001b[0m\u001b[0;34m]\u001b[0m\u001b[0;34m)\u001b[0m\u001b[0;34m\u001b[0m\u001b[0m\n\u001b[0m",
      "\u001b[0;31mIndexError\u001b[0m: list index out of range"
     ]
    }
   ],
   "source": [
    "print(a[10])"
   ]
  },
  {
   "cell_type": "markdown",
   "metadata": {
    "slideshow": {
     "slide_type": "slide"
    }
   },
   "source": [
    "**A diferencia de los strings**, las listas son tipos de datos **mutables**. El índice puede ser usado para **modificar** un elemento de la lista"
   ]
  },
  {
   "cell_type": "code",
   "execution_count": 22,
   "metadata": {
    "slideshow": {
     "slide_type": "fragment"
    }
   },
   "outputs": [
    {
     "name": "stdout",
     "output_type": "stream",
     "text": [
      "Lista antes de modificar un elemento por el indice\n",
      "['azul', 'rojo', 'verde', 'amarillo']\n",
      "Lista despues de modificar un elemento por el indice\n",
      "['fucsia', 'rojo', 'verde', 'amarillo']\n"
     ]
    }
   ],
   "source": [
    "colores = [\"azul\", \"rojo\", \"verde\", \"amarillo\"]\n",
    "print(\"Lista antes de modificar un elemento por el indice\")\n",
    "print(colores)\n",
    "colores[0] = \"fucsia\"\n",
    "print(\"Lista despues de modificar un elemento por el indice\")\n",
    "print(colores)"
   ]
  },
  {
   "cell_type": "markdown",
   "metadata": {
    "slideshow": {
     "slide_type": "slide"
    }
   },
   "source": [
    "Las listas también poseen índices negativos."
   ]
  },
  {
   "cell_type": "code",
   "execution_count": 23,
   "metadata": {
    "slideshow": {
     "slide_type": "fragment"
    }
   },
   "outputs": [
    {
     "name": "stdout",
     "output_type": "stream",
     "text": [
      "3\n"
     ]
    }
   ],
   "source": [
    "a = [1,2,3,4]\n",
    "#imprime por pantalla el penultimo elemento de la lista\n",
    "print(a[-2])"
   ]
  },
  {
   "cell_type": "markdown",
   "metadata": {
    "slideshow": {
     "slide_type": "slide"
    }
   },
   "source": [
    "La notación `l[inicio:fin]` también es válida para listas, solo que obtiene una lista con los elementos desde el índice `inicio` hasta el índice `fin-1`."
   ]
  },
  {
   "cell_type": "code",
   "execution_count": 24,
   "metadata": {
    "slideshow": {
     "slide_type": "fragment"
    }
   },
   "outputs": [
    {
     "name": "stdout",
     "output_type": "stream",
     "text": [
      "[6, 7, 8, 9, 10, 11, 12, 13, 14, 15, 16]\n"
     ]
    }
   ],
   "source": [
    "a = list(range(2,20))\n",
    "print(a[4:15])"
   ]
  },
  {
   "cell_type": "markdown",
   "metadata": {
    "slideshow": {
     "slide_type": "slide"
    }
   },
   "source": [
    "## Operaciones sobre listas"
   ]
  },
  {
   "cell_type": "markdown",
   "metadata": {
    "slideshow": {
     "slide_type": "fragment"
    }
   },
   "source": [
    "Algunas operaciones de listas son análogas a las operaciones de strings:\n",
    "\n",
    "- Concatenación de lista (`+`)\n",
    "- Repetición de listas (`*`)\n",
    "- Verificar si un *elemento* está en en la lista\n",
    "- Eliminar el elemento i-ésimo de una lista"
   ]
  },
  {
   "cell_type": "markdown",
   "metadata": {
    "slideshow": {
     "slide_type": "slide"
    }
   },
   "source": [
    "### Concatenación de listas\n",
    "El operador suma (+) permite juntar dos listas"
   ]
  },
  {
   "cell_type": "code",
   "execution_count": 25,
   "metadata": {
    "slideshow": {
     "slide_type": "fragment"
    }
   },
   "outputs": [
    {
     "name": "stdout",
     "output_type": "stream",
     "text": [
      "[1, 2, 3, 4, 6, 8]\n",
      "[4, 6, 8, 1, 2, 3]\n"
     ]
    }
   ],
   "source": [
    "a = [1,2,3]\n",
    "b = [4,6,8]\n",
    "c = a + b\n",
    "d = b + a\n",
    "print(c)\n",
    "print(d)"
   ]
  },
  {
   "cell_type": "code",
   "execution_count": 26,
   "metadata": {
    "slideshow": {
     "slide_type": "fragment"
    }
   },
   "outputs": [
    {
     "data": {
      "text/plain": [
       "[1, 2, 2, 6]"
      ]
     },
     "execution_count": 26,
     "metadata": {},
     "output_type": "execute_result"
    }
   ],
   "source": [
    "[1,2] + [2,6]"
   ]
  },
  {
   "cell_type": "markdown",
   "metadata": {
    "slideshow": {
     "slide_type": "slide"
    }
   },
   "source": [
    "### Repetición de listas\n",
    "El operador multiplicación (*) permite repetir una lista"
   ]
  },
  {
   "cell_type": "code",
   "execution_count": 27,
   "metadata": {
    "slideshow": {
     "slide_type": "fragment"
    }
   },
   "outputs": [
    {
     "name": "stdout",
     "output_type": "stream",
     "text": [
      "[1, 4, 6, 1, 4, 6, 1, 4, 6]\n"
     ]
    }
   ],
   "source": [
    "a = [1,4,6]\n",
    "c = a*3\n",
    "print(c)"
   ]
  },
  {
   "cell_type": "markdown",
   "metadata": {
    "slideshow": {
     "slide_type": "slide"
    }
   },
   "source": [
    "### Verificar si elemento se encuentra en la lista\n",
    "La instrucción `in` permite verificar si un elemento está contenido en la lista."
   ]
  },
  {
   "cell_type": "code",
   "execution_count": 28,
   "metadata": {
    "collapsed": true,
    "slideshow": {
     "slide_type": "fragment"
    }
   },
   "outputs": [],
   "source": [
    "a = [1,2,3,4]"
   ]
  },
  {
   "cell_type": "code",
   "execution_count": 29,
   "metadata": {
    "slideshow": {
     "slide_type": "fragment"
    }
   },
   "outputs": [
    {
     "data": {
      "text/plain": [
       "True"
      ]
     },
     "execution_count": 29,
     "metadata": {},
     "output_type": "execute_result"
    }
   ],
   "source": [
    "10 not in a"
   ]
  },
  {
   "cell_type": "code",
   "execution_count": 30,
   "metadata": {
    "slideshow": {
     "slide_type": "fragment"
    }
   },
   "outputs": [
    {
     "data": {
      "text/plain": [
       "False"
      ]
     },
     "execution_count": 30,
     "metadata": {},
     "output_type": "execute_result"
    }
   ],
   "source": [
    "6 in a"
   ]
  },
  {
   "cell_type": "markdown",
   "metadata": {
    "slideshow": {
     "slide_type": "slide"
    }
   },
   "source": [
    "¿Se muéstra el mensaje en el siguiente ejemplo?"
   ]
  },
  {
   "cell_type": "code",
   "execution_count": 31,
   "metadata": {
    "slideshow": {
     "slide_type": "fragment"
    }
   },
   "outputs": [
    {
     "name": "stdout",
     "output_type": "stream",
     "text": [
      "correcto\n"
     ]
    }
   ],
   "source": [
    "a = [1,2,3,4]\n",
    "verificar = 3 in a\n",
    "if verificar:\n",
    "    print(\"correcto\")"
   ]
  },
  {
   "cell_type": "markdown",
   "metadata": {
    "slideshow": {
     "slide_type": "slide"
    }
   },
   "source": [
    "### Eliminar un elemento de la lista\n",
    "\n",
    "- Utilizando la instrucción `del`, es posible eliminar un elemento de la lista.\n",
    "- Se debe indicar el índice de la lista a eliminar."
   ]
  },
  {
   "cell_type": "code",
   "execution_count": 32,
   "metadata": {
    "slideshow": {
     "slide_type": "fragment"
    }
   },
   "outputs": [
    {
     "name": "stdout",
     "output_type": "stream",
     "text": [
      "lista antes de eliminar el elemento a[-3]\n",
      "[1, 2, 3, 4, 2]\n",
      "lista despues de eliminar a[-3]\n",
      "[1, 2, 4, 2]\n"
     ]
    }
   ],
   "source": [
    "a = [1,2,3,4,2]\n",
    "print(\"lista antes de eliminar el elemento a[-3]\")\n",
    "print(a)\n",
    "del a[-3]\n",
    "print(\"lista despues de eliminar a[-3]\")\n",
    "print(a)"
   ]
  },
  {
   "cell_type": "markdown",
   "metadata": {
    "slideshow": {
     "slide_type": "slide"
    }
   },
   "source": [
    "## Funciones que aceptan listas como parámetros"
   ]
  },
  {
   "cell_type": "markdown",
   "metadata": {
    "slideshow": {
     "slide_type": "fragment"
    }
   },
   "source": [
    "### Longitud de una lista\n",
    "La función `len(lista)` entrega la cantidad de elementos de la lista ingresada como parámetro."
   ]
  },
  {
   "cell_type": "code",
   "execution_count": 33,
   "metadata": {
    "slideshow": {
     "slide_type": "fragment"
    }
   },
   "outputs": [
    {
     "name": "stdout",
     "output_type": "stream",
     "text": [
      "La cantidad de elementos de la lista es 4\n"
     ]
    }
   ],
   "source": [
    "a = [1,2,3,4]\n",
    "c = len(a)\n",
    "print(\"La cantidad de elementos de la lista es\",c)"
   ]
  },
  {
   "cell_type": "code",
   "execution_count": 35,
   "metadata": {
    "slideshow": {
     "slide_type": "fragment"
    }
   },
   "outputs": [
    {
     "name": "stdout",
     "output_type": "stream",
     "text": [
      "La cantidad de elementos de la lista es 4\n"
     ]
    }
   ],
   "source": [
    "b = [[1,2,3,4]]\n",
    "d = len(b[0])\n",
    "print(\"La cantidad de elementos de la lista es\",d)"
   ]
  },
  {
   "cell_type": "markdown",
   "metadata": {
    "slideshow": {
     "slide_type": "slide"
    }
   },
   "source": [
    "¿Qué ocurre con la cantidad de elementos de las listas vacías?"
   ]
  },
  {
   "cell_type": "code",
   "execution_count": 36,
   "metadata": {
    "slideshow": {
     "slide_type": "fragment"
    }
   },
   "outputs": [
    {
     "name": "stdout",
     "output_type": "stream",
     "text": [
      "0\n"
     ]
    }
   ],
   "source": [
    "print(len([]))"
   ]
  },
  {
   "cell_type": "code",
   "execution_count": 37,
   "metadata": {
    "slideshow": {
     "slide_type": "fragment"
    }
   },
   "outputs": [
    {
     "name": "stdout",
     "output_type": "stream",
     "text": [
      "0\n"
     ]
    }
   ],
   "source": [
    "print(len(list()))"
   ]
  },
  {
   "cell_type": "markdown",
   "metadata": {
    "slideshow": {
     "slide_type": "slide"
    }
   },
   "source": [
    "### Suma de los valores de una lista\n",
    "Usando la función `sum(lista)`, se puede determinar la suma de los elementos de una lista."
   ]
  },
  {
   "cell_type": "code",
   "execution_count": 38,
   "metadata": {
    "slideshow": {
     "slide_type": "fragment"
    }
   },
   "outputs": [
    {
     "data": {
      "text/plain": [
       "9"
      ]
     },
     "execution_count": 38,
     "metadata": {},
     "output_type": "execute_result"
    }
   ],
   "source": [
    "sum([1,5,3])"
   ]
  },
  {
   "cell_type": "code",
   "execution_count": 39,
   "metadata": {
    "slideshow": {
     "slide_type": "fragment"
    }
   },
   "outputs": [
    {
     "data": {
      "text/plain": [
       "9.4"
      ]
     },
     "execution_count": 39,
     "metadata": {},
     "output_type": "execute_result"
    }
   ],
   "source": [
    "sum([1.0,5.4,3])"
   ]
  },
  {
   "cell_type": "markdown",
   "metadata": {
    "slideshow": {
     "slide_type": "slide"
    }
   },
   "source": [
    "¿Que hace el siguiente programa?"
   ]
  },
  {
   "cell_type": "code",
   "execution_count": 40,
   "metadata": {
    "slideshow": {
     "slide_type": "fragment"
    }
   },
   "outputs": [
    {
     "name": "stdout",
     "output_type": "stream",
     "text": [
      "3\n"
     ]
    }
   ],
   "source": [
    "b = 5\n",
    "a = [1,2,4,b]\n",
    "c = sum(a)/len(a)\n",
    "print(round(c))"
   ]
  },
  {
   "cell_type": "markdown",
   "metadata": {
    "slideshow": {
     "slide_type": "slide"
    }
   },
   "source": [
    "### Mínimo en una lista de elementos\n",
    "La función `min(lista)` entrega el valor mínimo en la `lista` ingresada como parámetro."
   ]
  },
  {
   "cell_type": "code",
   "execution_count": 41,
   "metadata": {
    "slideshow": {
     "slide_type": "fragment"
    }
   },
   "outputs": [
    {
     "name": "stdout",
     "output_type": "stream",
     "text": [
      "-1\n"
     ]
    }
   ],
   "source": [
    "m = min([1,6,2,-1])\n",
    "print(m)"
   ]
  },
  {
   "cell_type": "markdown",
   "metadata": {
    "slideshow": {
     "slide_type": "slide"
    }
   },
   "source": [
    "### Máximo en una lista de elementos\n",
    "La función `max(lista)` entrega el valor máximo en la `lista` ingresada como parámetro."
   ]
  },
  {
   "cell_type": "code",
   "execution_count": 42,
   "metadata": {
    "slideshow": {
     "slide_type": "fragment"
    }
   },
   "outputs": [
    {
     "name": "stdout",
     "output_type": "stream",
     "text": [
      "6\n"
     ]
    }
   ],
   "source": [
    "m = max([1,6,2,-1])\n",
    "print(m)"
   ]
  },
  {
   "cell_type": "markdown",
   "metadata": {
    "slideshow": {
     "slide_type": "slide"
    }
   },
   "source": [
    "## Métodos para listas"
   ]
  },
  {
   "cell_type": "markdown",
   "metadata": {
    "slideshow": {
     "slide_type": "fragment"
    }
   },
   "source": [
    "- Agregar un elemento `x`: `l.append(x)`\n",
    "- Agregar un elemento `x` en una posición `pos`: `l.insert(pos,x)`\n",
    "- Contar la aparición de un elemento `x`: `l.count(x)`\n",
    "- Obtener el índice de un elemento `x`: `l.index(x)`\n",
    "- Eliminar un elemento `x`: `l.remove(x)`\n",
    "- Invertir una lista: `l.reverse()`\n",
    "- Ordenar una lista: `l.sort()`"
   ]
  },
  {
   "cell_type": "markdown",
   "metadata": {
    "slideshow": {
     "slide_type": "fragment"
    }
   },
   "source": [
    "**Importante:** recordar que los métodos operan sobre una variable que es de cierto tipo. En este caso `l` es una lista."
   ]
  },
  {
   "cell_type": "markdown",
   "metadata": {
    "slideshow": {
     "slide_type": "slide"
    }
   },
   "source": [
    "### Agregar un elemento\n",
    "- Usando `append`, se agregará un elemento al final de la lista."
   ]
  },
  {
   "cell_type": "code",
   "execution_count": 48,
   "metadata": {
    "slideshow": {
     "slide_type": "fragment"
    }
   },
   "outputs": [
    {
     "name": "stdout",
     "output_type": "stream",
     "text": [
      "lista antes de agregar un elemento\n",
      "[1, 2, 3, 4]\n",
      "lista despues de agregar un elemento\n",
      "[1, 2, 3, 4, 4]\n"
     ]
    }
   ],
   "source": [
    "a = [1,2,3,4]\n",
    "print(\"lista antes de agregar un elemento\")\n",
    "print(a)\n",
    "#agregar un 4 al final de la lista\n",
    "a.append(4)\n",
    "print(\"lista despues de agregar un elemento\")\n",
    "print(a)"
   ]
  },
  {
   "cell_type": "markdown",
   "metadata": {
    "slideshow": {
     "slide_type": "slide"
    }
   },
   "source": [
    "### Agregar un elemento en una posición\n",
    "Usando el método `insert` se puede agregar un elemento en la lista en la posición i-ésima ingresada como parámetro."
   ]
  },
  {
   "cell_type": "code",
   "execution_count": 1,
   "metadata": {
    "slideshow": {
     "slide_type": "fragment"
    }
   },
   "outputs": [
    {
     "name": "stdout",
     "output_type": "stream",
     "text": [
      "lista antes de agregar un elemento\n",
      "[1, 2, 3, 4]\n",
      "lista despues de agregar un elemento\n",
      "[1, 2, 10, 3, 4]\n"
     ]
    }
   ],
   "source": [
    "a = [1,2,3,4]\n",
    "print(\"lista antes de agregar un elemento\")\n",
    "print(a)\n",
    "#agregar un 10 en a[2]\n",
    "a.insert(2,10)\n",
    "print(\"lista despues de agregar un elemento\")\n",
    "print(a)"
   ]
  },
  {
   "cell_type": "markdown",
   "metadata": {
    "slideshow": {
     "slide_type": "slide"
    }
   },
   "source": [
    "### Contar la aparición de un elemento en una lista"
   ]
  },
  {
   "cell_type": "markdown",
   "metadata": {
    "slideshow": {
     "slide_type": "fragment"
    }
   },
   "source": [
    "El método `count` cuenta cuántas veces aparece un elemento en la lista."
   ]
  },
  {
   "cell_type": "code",
   "execution_count": 53,
   "metadata": {},
   "outputs": [
    {
     "name": "stdout",
     "output_type": "stream",
     "text": [
      "3\n"
     ]
    }
   ],
   "source": [
    "a = list(\"paralelepipedo\")\n",
    "b = a.count(\"p\")\n",
    "print(b)"
   ]
  },
  {
   "cell_type": "markdown",
   "metadata": {
    "slideshow": {
     "slide_type": "slide"
    }
   },
   "source": [
    "### Índice de un elemento\n",
    "- El método `index` entrega la posición de un elemento en la lista\n",
    "- Si hay más de un elemento en la lista, entrega la posición del primer elemento (sentido izquierda - derecha).\n",
    "- El elemento debe existir."
   ]
  },
  {
   "cell_type": "code",
   "execution_count": 54,
   "metadata": {
    "collapsed": true,
    "slideshow": {
     "slide_type": "fragment"
    }
   },
   "outputs": [],
   "source": [
    "a = [1,2,3,4,3]"
   ]
  },
  {
   "cell_type": "code",
   "execution_count": 55,
   "metadata": {
    "slideshow": {
     "slide_type": "fragment"
    }
   },
   "outputs": [
    {
     "data": {
      "text/plain": [
       "2"
      ]
     },
     "execution_count": 55,
     "metadata": {},
     "output_type": "execute_result"
    }
   ],
   "source": [
    "a.index(3)"
   ]
  },
  {
   "cell_type": "code",
   "execution_count": 56,
   "metadata": {
    "slideshow": {
     "slide_type": "fragment"
    }
   },
   "outputs": [
    {
     "ename": "ValueError",
     "evalue": "214 is not in list",
     "output_type": "error",
     "traceback": [
      "\u001b[0;31m---------------------------------------------------------------------------\u001b[0m",
      "\u001b[0;31mValueError\u001b[0m                                Traceback (most recent call last)",
      "\u001b[0;32m<ipython-input-56-732a7ae971c1>\u001b[0m in \u001b[0;36m<module>\u001b[0;34m()\u001b[0m\n\u001b[0;32m----> 1\u001b[0;31m \u001b[0ma\u001b[0m\u001b[0;34m.\u001b[0m\u001b[0mindex\u001b[0m\u001b[0;34m(\u001b[0m\u001b[0;36m214\u001b[0m\u001b[0;34m)\u001b[0m\u001b[0;34m\u001b[0m\u001b[0m\n\u001b[0m",
      "\u001b[0;31mValueError\u001b[0m: 214 is not in list"
     ]
    }
   ],
   "source": [
    "a.index(214)"
   ]
  },
  {
   "cell_type": "markdown",
   "metadata": {
    "slideshow": {
     "slide_type": "slide"
    }
   },
   "source": [
    "¿Cómo se puede asegurar que al usar `index` no habrá error?"
   ]
  },
  {
   "cell_type": "code",
   "execution_count": 57,
   "metadata": {
    "slideshow": {
     "slide_type": "fragment"
    }
   },
   "outputs": [
    {
     "name": "stdout",
     "output_type": "stream",
     "text": [
      "El elemento 3 esta en el indice 2\n"
     ]
    }
   ],
   "source": [
    "a = [1,2,3,4,3]\n",
    "if 214 in a:\n",
    "    print(\"El elemento 214 esta en el indice\",a.index(214))\n",
    "    \n",
    "if 3 in a:\n",
    "    print(\"El elemento 3 esta en el indice\",a.index(3))"
   ]
  },
  {
   "cell_type": "markdown",
   "metadata": {
    "slideshow": {
     "slide_type": "slide"
    }
   },
   "source": [
    "### Eliminar un elemento de una lista\n",
    "- El método `remove` elimina el elemento ingresado como parámetro\n",
    "- Si hay más de un elemento en la lista, elimina el primer elemento (sentido izquierda - derecha).\n",
    "- El elemento debe existir en la lista\n",
    "\n"
   ]
  },
  {
   "cell_type": "code",
   "execution_count": 58,
   "metadata": {
    "slideshow": {
     "slide_type": "fragment"
    }
   },
   "outputs": [
    {
     "name": "stdout",
     "output_type": "stream",
     "text": [
      "lista antes de eliminar el elemento 3\n",
      "[1, 2, 3, 5, 3]\n",
      "lista despues de eliminar\n",
      "[1, 2, 5, 3]\n"
     ]
    }
   ],
   "source": [
    "a = [1,2,3,5,3]\n",
    "print(\"lista antes de eliminar el elemento 3\")\n",
    "print(a)\n",
    "#eliminar el elemento 3 de la lista\n",
    "a.remove(3)\n",
    "print(\"lista despues de eliminar\")\n",
    "print(a)"
   ]
  },
  {
   "cell_type": "code",
   "execution_count": 59,
   "metadata": {
    "slideshow": {
     "slide_type": "slide"
    }
   },
   "outputs": [
    {
     "ename": "ValueError",
     "evalue": "list.remove(x): x not in list",
     "output_type": "error",
     "traceback": [
      "\u001b[0;31m---------------------------------------------------------------------------\u001b[0m",
      "\u001b[0;31mValueError\u001b[0m                                Traceback (most recent call last)",
      "\u001b[0;32m<ipython-input-59-f5d8d6a28254>\u001b[0m in \u001b[0;36m<module>\u001b[0;34m()\u001b[0m\n\u001b[0;32m----> 1\u001b[0;31m \u001b[0ma\u001b[0m\u001b[0;34m.\u001b[0m\u001b[0mremove\u001b[0m\u001b[0;34m(\u001b[0m\u001b[0;36m7\u001b[0m\u001b[0;34m)\u001b[0m\u001b[0;34m\u001b[0m\u001b[0m\n\u001b[0m",
      "\u001b[0;31mValueError\u001b[0m: list.remove(x): x not in list"
     ]
    }
   ],
   "source": [
    "a.remove(7)"
   ]
  },
  {
   "cell_type": "markdown",
   "metadata": {
    "slideshow": {
     "slide_type": "fragment"
    }
   },
   "source": [
    "¿Cómo se puede evitar este error al intentar eliminar un elemento?"
   ]
  },
  {
   "cell_type": "code",
   "execution_count": 60,
   "metadata": {
    "collapsed": true,
    "slideshow": {
     "slide_type": "fragment"
    }
   },
   "outputs": [],
   "source": [
    "a = [1,2,3,5,3]\n",
    "if 7 in a:\n",
    "    a.remove(7)"
   ]
  },
  {
   "cell_type": "markdown",
   "metadata": {
    "slideshow": {
     "slide_type": "slide"
    }
   },
   "source": [
    "### Invertir una lista\n",
    "El método `reverse` invierte el orden de los elementos de una lista."
   ]
  },
  {
   "cell_type": "code",
   "execution_count": 61,
   "metadata": {
    "slideshow": {
     "slide_type": "fragment"
    }
   },
   "outputs": [
    {
     "name": "stdout",
     "output_type": "stream",
     "text": [
      "lista antes de invertir\n",
      "[4, 1, 10, 5]\n",
      "lista despues de invertir\n",
      "[5, 10, 1, 4]\n"
     ]
    }
   ],
   "source": [
    "a = [4,1,10,5]\n",
    "print(\"lista antes de invertir\")\n",
    "print(a)\n",
    "a.reverse()\n",
    "print(\"lista despues de invertir\")\n",
    "print(a)"
   ]
  },
  {
   "cell_type": "markdown",
   "metadata": {
    "slideshow": {
     "slide_type": "slide"
    }
   },
   "source": [
    "### Ordenar una lista\n",
    "El método `sort` ordena los elementos de una lista en orden creciente."
   ]
  },
  {
   "cell_type": "code",
   "execution_count": null,
   "metadata": {
    "collapsed": true,
    "slideshow": {
     "slide_type": "fragment"
    }
   },
   "outputs": [],
   "source": [
    "a = [4,1,10,6]\n",
    "print(\"lista antes de ordenar\")\n",
    "print(a)\n",
    "a.sort()\n",
    "print(\"lista despues de ordenar\")\n",
    "print(a)"
   ]
  },
  {
   "cell_type": "markdown",
   "metadata": {
    "slideshow": {
     "slide_type": "slide"
    }
   },
   "source": [
    "¿Cómo ordenar los elementos de una lista en orden decreciente?"
   ]
  },
  {
   "cell_type": "code",
   "execution_count": 62,
   "metadata": {
    "slideshow": {
     "slide_type": "fragment"
    }
   },
   "outputs": [
    {
     "name": "stdout",
     "output_type": "stream",
     "text": [
      "lista antes de ordenar\n",
      "[4, 1, 10, 6]\n",
      "lista despues de ordenar\n",
      "[10, 6, 4, 1]\n"
     ]
    }
   ],
   "source": [
    "a = [4,1,10,6]\n",
    "print(\"lista antes de ordenar\")\n",
    "print(a)\n",
    "a.sort()\n",
    "a.reverse()\n",
    "print(\"lista despues de ordenar\")\n",
    "print(a)"
   ]
  },
  {
   "cell_type": "markdown",
   "metadata": {
    "slideshow": {
     "slide_type": "slide"
    }
   },
   "source": [
    "## Ciclo `for` en listas\n",
    "- Un ciclo `for` puede ser usado para iterar sobre listas."
   ]
  },
  {
   "cell_type": "code",
   "execution_count": 63,
   "metadata": {
    "slideshow": {
     "slide_type": "fragment"
    }
   },
   "outputs": [
    {
     "name": "stdout",
     "output_type": "stream",
     "text": [
      "elem = 1\n",
      "elem = 4\n",
      "elem = s\n",
      "elem = [1, 5]\n"
     ]
    }
   ],
   "source": [
    "lista = [1,4,\"s\",[1,5]]\n",
    "for elem in lista:\n",
    "    print(\"elem =\",elem)"
   ]
  },
  {
   "cell_type": "markdown",
   "metadata": {
    "slideshow": {
     "slide_type": "slide"
    }
   },
   "source": [
    "### Utilizando `range` en un ciclo `for`"
   ]
  },
  {
   "cell_type": "code",
   "execution_count": 64,
   "metadata": {
    "slideshow": {
     "slide_type": "fragment"
    }
   },
   "outputs": [
    {
     "name": "stdout",
     "output_type": "stream",
     "text": [
      "50\n"
     ]
    }
   ],
   "source": [
    "suma = 0\n",
    "for k in range(3,6):\n",
    "    suma += k**2\n",
    "print(suma)"
   ]
  },
  {
   "cell_type": "code",
   "execution_count": 67,
   "metadata": {
    "slideshow": {
     "slide_type": "fragment"
    }
   },
   "outputs": [
    {
     "name": "stdout",
     "output_type": "stream",
     "text": [
      "hola persona 1\n",
      "hola persona 2\n",
      "hola persona 3\n",
      "hola persona 4\n",
      "hola persona 5\n"
     ]
    }
   ],
   "source": [
    "for i in range(5):\n",
    "    print(\"hola persona \"+str(i+1))"
   ]
  },
  {
   "cell_type": "code",
   "execution_count": 68,
   "metadata": {
    "slideshow": {
     "slide_type": "fragment"
    }
   },
   "outputs": [
    {
     "name": "stdout",
     "output_type": "stream",
     "text": [
      "2\n",
      "3\n",
      "4\n"
     ]
    }
   ],
   "source": [
    "for i in range(2,5):\n",
    "    print(i)"
   ]
  },
  {
   "cell_type": "markdown",
   "metadata": {
    "slideshow": {
     "slide_type": "slide"
    }
   },
   "source": [
    "### Iterables (hasta el momento):\n",
    "- Strings\n",
    "- Listas\n",
    "- `range`"
   ]
  },
  {
   "cell_type": "markdown",
   "metadata": {
    "slideshow": {
     "slide_type": "slide"
    }
   },
   "source": [
    "## Equivalencia entre ciclo `while` y ciclo `for`\n",
    "¿Son equivalentes los siguientes códigos?"
   ]
  },
  {
   "cell_type": "code",
   "execution_count": 69,
   "metadata": {
    "slideshow": {
     "slide_type": "fragment"
    }
   },
   "outputs": [
    {
     "name": "stdout",
     "output_type": "stream",
     "text": [
      "La suma es igual a 10\n"
     ]
    }
   ],
   "source": [
    "contador = 0\n",
    "suma = 0\n",
    "while contador < 5:\n",
    "    suma += contador\n",
    "    contador += 1\n",
    "print(\"La suma es igual a\",suma)"
   ]
  },
  {
   "cell_type": "code",
   "execution_count": 70,
   "metadata": {
    "slideshow": {
     "slide_type": "fragment"
    }
   },
   "outputs": [
    {
     "name": "stdout",
     "output_type": "stream",
     "text": [
      "La suma es igual a 10\n"
     ]
    }
   ],
   "source": [
    "suma = 0\n",
    "for contador in range(5):\n",
    "    suma += contador\n",
    "print(\"La suma es igual a\",suma)"
   ]
  },
  {
   "cell_type": "markdown",
   "metadata": {
    "slideshow": {
     "slide_type": "slide"
    }
   },
   "source": [
    "### Iteración de listas usando ciclo `while` y ciclo `for`"
   ]
  },
  {
   "cell_type": "code",
   "execution_count": 71,
   "metadata": {
    "slideshow": {
     "slide_type": "fragment"
    }
   },
   "outputs": [
    {
     "name": "stdout",
     "output_type": "stream",
     "text": [
      "Tengo clases de Progra\n",
      "Tengo clases de Mate\n",
      "Tengo clases de Fisica\n"
     ]
    }
   ],
   "source": [
    "ramos = [\"Progra\", \"Mate\", \"Fisica\"]\n",
    "i = 0\n",
    "while i < len(ramos):\n",
    "    print(\"Tengo clases de\",ramos[i])\n",
    "    i += 1"
   ]
  },
  {
   "cell_type": "code",
   "execution_count": 72,
   "metadata": {
    "slideshow": {
     "slide_type": "fragment"
    }
   },
   "outputs": [
    {
     "name": "stdout",
     "output_type": "stream",
     "text": [
      "Tengo clases de Progra\n",
      "Tengo clases de Mate\n",
      "Tengo clases de Fisica\n"
     ]
    }
   ],
   "source": [
    "ramos = [\"Progra\", \"Mate\", \"Fisica\"]\n",
    "for ramo in ramos:\n",
    "    print(\"Tengo clases de\",ramo)"
   ]
  },
  {
   "cell_type": "code",
   "execution_count": 73,
   "metadata": {
    "slideshow": {
     "slide_type": "slide"
    }
   },
   "outputs": [
    {
     "name": "stdout",
     "output_type": "stream",
     "text": [
      "Tengo clases de Progra a las 8:00\n",
      "Tengo clases de Mate a las 10:00\n",
      "Tengo clases de Fisica a las 12:00\n"
     ]
    }
   ],
   "source": [
    "ramos = [\"Progra\", \"Mate\", \"Fisica\"]\n",
    "horas = [\"8:00\", \"10:00\", \"12:00\"]\n",
    "i = 0\n",
    "while i < len(ramos):\n",
    "    print(\"Tengo clases de\",ramos[i],\"a las\", horas[i])\n",
    "    i += 1"
   ]
  },
  {
   "cell_type": "code",
   "execution_count": 78,
   "metadata": {
    "slideshow": {
     "slide_type": "fragment"
    }
   },
   "outputs": [
    {
     "name": "stdout",
     "output_type": "stream",
     "text": [
      "[0, 1, 2]\n",
      "Tengo clases de Progra a las 8:00\n",
      "Tengo clases de Mate a las 10:00\n",
      "Tengo clases de Fisica a las 12:00\n"
     ]
    }
   ],
   "source": [
    "ramos = [\"Progra\", \"Mate\", \"Fisica\"]\n",
    "horas = [\"8:00\", \"10:00\", \"12:00\"]\n",
    "print(list(range(len(ramos))))\n",
    "for i in range(len(ramos)):\n",
    "    print(\"Tengo clases de\",ramos[i],\"a las\", horas[i])"
   ]
  },
  {
   "cell_type": "markdown",
   "metadata": {
    "slideshow": {
     "slide_type": "slide"
    }
   },
   "source": [
    "## Ejercicios"
   ]
  },
  {
   "cell_type": "markdown",
   "metadata": {
    "slideshow": {
     "slide_type": "fragment"
    }
   },
   "source": [
    "**1.** La desviación estándar es una medida que se usa para cuantificar la variación o dispersión de un conjunto de datos numéricos.\n",
    "\n",
    "$$\n",
    "\\sigma = \\sqrt{\\sum_{i}^n \\frac{(x_i-\\mu)^2}{n-1}}\n",
    "$$\n",
    "\n",
    "Donde n es la cantidad de datos, μ es el promedio y los xᵢ son cada uno de los datos. Esto significa que hay que hacerlo siguiendo estos pasos:\n",
    "- Calcular el promedio de los valores;\n",
    "- a cada valor hay que restarle el promedio, y el resultado elevarlo al cuadrado;\n",
    "- sumar todos los valores obtenidos;\n",
    "- dividir la suma por la cantidad de valores; y\n",
    "- sacar la raíz cuadrada del resultado.\n",
    "\n",
    "Desarrolle la función `desviacion_estandar(valores)` cuyo parámetro `valores` sea una lista de números reales. La función debe retornar la desviación estándar de los valores.\n",
    "\n",
    "```\n",
    ">>> desviacion_estandar([1.3, 1.3, 1.3])\n",
    "0.0\n",
    ">>> desviacion_estandar([4.0, 1.0, 11.0, 13.0, 2.0, 7.0])\n",
    "4.88535225615\n",
    ">>> desviacion_estandar([1.5, 9.5])\n",
    "5.65685424949\n",
    "```"
   ]
  },
  {
   "cell_type": "markdown",
   "metadata": {
    "slideshow": {
     "slide_type": "slide"
    }
   },
   "source": [
    "**2.** La búsqueda secuencial (o lineal) es un método para encontrar un valor en una lista desordenada verificando cada elemento secuencialmente desde el primero hasta que el elemento buscado se encuentra o se llega al final de la lista.\n",
    "\n",
    "Escriba la función `búsqueda_secuencial(lista, elemento)` que recibe una lista desordenada y un elemento que se desea encontrar. La función debe retornar la posición del `elemento` en la `lista` utilizando una búsqueda secuencial. Si no se encuentra retornar False.\n",
    "\n",
    "```\n",
    ">>> búsqueda_secuencial([11,23,58,31,56,77,43,12,65,19], 31)\n",
    "3\n",
    ">>> búsqueda_secuencial([11,23,58,31,56,77,43,12,65,19], 13)\n",
    "False\n",
    "```"
   ]
  },
  {
   "cell_type": "markdown",
   "metadata": {
    "slideshow": {
     "slide_type": "slide"
    }
   },
   "source": [
    "**3.** La búsqueda binaria encuentra la posición de un elemento en una lista ordenada, comparando el elemento con el valor de al medio de la lista, si no son iguales, la mitad en la cual el valor no puede estar es eliminada y la búsqueda continúa en la mitad restante hasta que el valor se encuentre.\n",
    "\n",
    "Por ejemplo, se desea encontrar el 10 en la siguiente lista:\n",
    "\n",
    "<table style=\"border: 1px solid black; font-size: 1em; float:center;\">\n",
    "    <tr>\n",
    "        <td style=\"border-left: 1px solid; border-right: 1px solid black;\">4</td>\n",
    "        <td style=\"border-right: 1px solid black;\">6</td>\n",
    "        <td style=\"border-right: 1px solid black;\">10</td>\n",
    "        <td style=\"border-right: 1px solid black; background-color:  #eca1a6;\">12</td>\n",
    "        <td style=\"border-right: 1px solid black;\">17</td>\n",
    "        <td style=\"border-right: 1px solid black;\">25</td>\n",
    "        <td style=\"border-right: 1px solid black;\">29</td>\n",
    "    </tr>\n",
    "</table>\n",
    "\n",
    "Comparar el elemento buscado con el valor central: 10 < 12, es menor, entonces descartar el lado derecho.\n",
    "\n",
    "<table style=\"border: 1px solid black; font-size: 1em; float:center;\">\n",
    "    <tr>\n",
    "        <td style=\"border-left: 1px solid; border-right: 1px solid black;\">4</td>\n",
    "        <td style=\"border-right: 1px solid black;\">6</td>\n",
    "        <td style=\"border-right: 1px solid black; background-color:  #eca1a6;\">10</td>\n",
    "        <td style=\"border-right: 1px solid black;\">&nbsp;&nbsp;</td>\n",
    "        <td style=\"border-right: 1px solid black;\">&nbsp;&nbsp;</td>\n",
    "        <td style=\"border-right: 1px solid black;\">&nbsp;&nbsp;</td>\n",
    "        <td style=\"border-right: 1px solid black;\">&nbsp;&nbsp;</td>\n",
    "    </tr>\n",
    "</table>\n",
    "\n",
    "Comparar el elemento buscado con el valor central: 10 > 6, es mayor, entonces descartar el lado izquierdo.\n",
    "\n",
    "<table style=\"border: 1px solid black; font-size: 1em; float:center;\">\n",
    "    <tr>\n",
    "        <td style=\"border-left: 1px solid; border-right: 1px solid black;\">&nbsp;&nbsp;</td>\n",
    "        <td style=\"border-right: 1px solid black; background-color:  #eca1a6;\">6</td>\n",
    "        <td style=\"border-right: 1px solid black;\">&nbsp;&nbsp;</td>\n",
    "        <td style=\"border-right: 1px solid black;\">&nbsp;&nbsp;</td>\n",
    "        <td style=\"border-right: 1px solid black;\">&nbsp;&nbsp;</td>\n",
    "        <td style=\"border-right: 1px solid black;\">&nbsp;&nbsp;</td>\n",
    "        <td style=\"border-right: 1px solid black;\">&nbsp;&nbsp;</td>\n",
    "    </tr>\n",
    "</table>\n",
    "\n",
    "Comparar el elemento buscado con el valor central: 10 = 10, es igual, entonces se encontró.\n",
    "\n",
    "Si hubiesen sido distintos, como no quedan más elementos, el valor buscado no está en la lista.\n",
    "\n",
    "Escriba la función `busqueda_binaria(lista, elemento)`que recibe una lista ordenada y un elemento que se desea encontrar. La función debe retornar True si encuentra el `elemento` en la `lista` utilizando una búsqueda binaria. Si no se encuentra retornar `False`.\n",
    "```\n",
    ">>> búsqueda_binaria([0, 1, 3, 8, 14, 18, 19, 34, 52], 3)\n",
    "True\n",
    ">>> búsqueda_binaria([0, 1, 3, 8, 14, 18, 19, 34, 52], 17)\n",
    "False\n",
    "```"
   ]
  },
  {
   "cell_type": "code",
   "execution_count": null,
   "metadata": {
    "collapsed": true,
    "slideshow": {
     "slide_type": "skip"
    }
   },
   "outputs": [],
   "source": []
  }
 ],
 "metadata": {
  "anaconda-cloud": {},
  "celltoolbar": "Slideshow",
  "kernelspec": {
   "display_name": "Python 2",
   "language": "python",
   "name": "python2"
  },
  "language_info": {
   "codemirror_mode": {
    "name": "ipython",
    "version": 3
   },
   "file_extension": ".py",
   "mimetype": "text/x-python",
   "name": "python",
   "nbconvert_exporter": "python",
   "pygments_lexer": "ipython3",
   "version": "3.5.2"
  }
 },
 "nbformat": 4,
 "nbformat_minor": 1
}
