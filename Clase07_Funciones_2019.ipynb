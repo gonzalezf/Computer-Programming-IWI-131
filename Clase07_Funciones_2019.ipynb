{
 "cells": [
  {
   "cell_type": "markdown",
   "metadata": {
    "slideshow": {
     "slide_type": "slide"
    }
   },
   "source": [
    "<img src=\"images/di.png\" alt=\"\" width=\"200px\" align=\"left\"/>\n",
    "<img src=\"images/utfsm.png\" alt=\"\" width=\"150px\" align=\"right\"/>\n",
    "\n",
    "<br/>\n",
    "<div align=\"center\">\n",
    "<h1>IWI131 Programación</h1><br/>\n",
    "<h2>Funciones</h2>\n",
    "<br/><br/>\n",
    "Departamento de Informática<br/>\n",
    "Universidad Técnica Federico Santa María\n",
    "</div>"
   ]
  },
  {
   "cell_type": "markdown",
   "metadata": {
    "slideshow": {
     "slide_type": "slide"
    }
   },
   "source": [
    "# Funciones"
   ]
  },
  {
   "cell_type": "markdown",
   "metadata": {
    "slideshow": {
     "slide_type": "fragment"
    }
   },
   "source": [
    "Hasta el momento se ha visto que existen funciones ya definidas que pueden ser utilizadas. Ejemplo de estas funciones son:\n",
    "* `abs()`\n",
    "* `print()`\n",
    "* `float()`\n",
    "* etc.\n",
    "\n"
   ]
  },
  {
   "cell_type": "markdown",
   "metadata": {
    "slideshow": {
     "slide_type": "slide"
    }
   },
   "source": [
    "Sin embargo, en ocasiones necesitamos crear funciones para realizar ciertas tareas específicas. Para realizar esto, se deben tener presente 2 aspectos:\n",
    "* La definición de la función.\n",
    "* El adecuado llamado de la función previamente definida."
   ]
  },
  {
   "cell_type": "markdown",
   "metadata": {
    "slideshow": {
     "slide_type": "slide"
    }
   },
   "source": [
    "## Definición de una función"
   ]
  },
  {
   "cell_type": "markdown",
   "metadata": {
    "slideshow": {
     "slide_type": "fragment"
    }
   },
   "source": [
    "Para definir una función se debe utilizar la palabra reservada `def`, seguida de la siguiente sintaxis:"
   ]
  },
  {
   "cell_type": "markdown",
   "metadata": {
    "slideshow": {
     "slide_type": "fragment"
    }
   },
   "source": [
    "\n",
    "`def` nombre_funcion**(parametro1, parametro2, ...):**"
   ]
  },
  {
   "cell_type": "markdown",
   "metadata": {
    "slideshow": {
     "slide_type": "slide"
    }
   },
   "source": [
    "Toda función definida debe tener un nombre luego de la palabra `def`. Este nombre cumple las mismas restricciones de nombres de variables."
   ]
  },
  {
   "cell_type": "markdown",
   "metadata": {
    "slideshow": {
     "slide_type": "fragment"
    }
   },
   "source": [
    "Los parámetros de entradas entre paréntesis redondos `( )`. Estos parámetros deben ir separados por comas y pueden ser una cantidad variable. Se termina al final con el caracter dos puntos `:`."
   ]
  },
  {
   "cell_type": "markdown",
   "metadata": {
    "slideshow": {
     "slide_type": "slide"
    }
   },
   "source": [
    "## Definición de una función"
   ]
  },
  {
   "cell_type": "markdown",
   "metadata": {
    "slideshow": {
     "slide_type": "fragment"
    }
   },
   "source": [
    "Después de escribir la primera línea de código de la función, se deben escribir todas las instrucciones. Estas instrucciones deben estar indentadas de tal manera que todas esten dentro de la función"
   ]
  },
  {
   "cell_type": "markdown",
   "metadata": {
    "slideshow": {
     "slide_type": "fragment"
    }
   },
   "source": [
    "En la mayoria de los casos, las funciones tienen una instrucción especial representada por la palabra reservada **return**. Esta instrucción especial nos indica el momento en que nos salimos de la función, retornando algun valor de interes. "
   ]
  },
  {
   "cell_type": "markdown",
   "metadata": {
    "slideshow": {
     "slide_type": "slide"
    }
   },
   "source": [
    "En trinket, una función es:"
   ]
  },
  {
   "cell_type": "code",
   "execution_count": 1,
   "metadata": {
    "slideshow": {
     "slide_type": "fragment"
    }
   },
   "outputs": [
    {
     "data": {
      "text/html": [
       "\n",
       "        <iframe\n",
       "            width=\"100%\"\n",
       "            height=\"400\"\n",
       "            src=\"https://trinket.io/embed/blocks/0cda3d2969?hideGeneratedCode=true\"\n",
       "            frameborder=\"0\"\n",
       "            allowfullscreen\n",
       "        ></iframe>\n",
       "        "
      ],
      "text/plain": [
       "<IPython.lib.display.IFrame at 0x7f0ea7664940>"
      ]
     },
     "execution_count": 1,
     "metadata": {},
     "output_type": "execute_result"
    }
   ],
   "source": [
    "from IPython.display import IFrame\n",
    "IFrame(\"https://trinket.io/embed/blocks/0cda3d2969?hideGeneratedCode=true\", width=\"100%\", height=\"400\")"
   ]
  },
  {
   "cell_type": "markdown",
   "metadata": {
    "slideshow": {
     "slide_type": "slide"
    }
   },
   "source": [
    "Un ejemplo de la misma función en Python es:"
   ]
  },
  {
   "cell_type": "code",
   "execution_count": 2,
   "metadata": {
    "collapsed": true,
    "slideshow": {
     "slide_type": "fragment"
    }
   },
   "outputs": [],
   "source": [
    "def discriminante(a,b,c):\n",
    "    resultado = b**2-4*a*c\n",
    "    return resultado"
   ]
  },
  {
   "cell_type": "markdown",
   "metadata": {
    "slideshow": {
     "slide_type": "fragment"
    }
   },
   "source": [
    "Con esto, ya hemos desarrollado nuestra primera función, pero ahora nos hace falta poder utilizarla."
   ]
  },
  {
   "cell_type": "markdown",
   "metadata": {
    "slideshow": {
     "slide_type": "slide"
    }
   },
   "source": [
    "## Llamado de la función"
   ]
  },
  {
   "cell_type": "markdown",
   "metadata": {
    "slideshow": {
     "slide_type": "fragment"
    }
   },
   "source": [
    "Una vez la función es creada, como en el ejemplo anterior, podemos utilizarla. A este proceso comunmente se le llama: **llamar la función**."
   ]
  },
  {
   "cell_type": "markdown",
   "metadata": {
    "slideshow": {
     "slide_type": "fragment"
    }
   },
   "source": [
    "Para llamar a una función, se debe saber el nombre de esta y los parámetros que recibe. Es importante respetar el número de parámetros. "
   ]
  },
  {
   "cell_type": "markdown",
   "metadata": {
    "slideshow": {
     "slide_type": "slide"
    }
   },
   "source": [
    "En Trinket, una función puede ser llamada al usar su bloque respectivo e ingresando los parámetros requeridos."
   ]
  },
  {
   "cell_type": "code",
   "execution_count": 3,
   "metadata": {
    "slideshow": {
     "slide_type": "fragment"
    }
   },
   "outputs": [
    {
     "data": {
      "text/html": [
       "\n",
       "        <iframe\n",
       "            width=\"100%\"\n",
       "            height=\"400\"\n",
       "            src=\"https://trinket.io/embed/blocks/1b661715ca?hideGeneratedCode=true\"\n",
       "            frameborder=\"0\"\n",
       "            allowfullscreen\n",
       "        ></iframe>\n",
       "        "
      ],
      "text/plain": [
       "<IPython.lib.display.IFrame at 0x7f0ea45a0438>"
      ]
     },
     "execution_count": 3,
     "metadata": {},
     "output_type": "execute_result"
    }
   ],
   "source": [
    "from IPython.display import IFrame\n",
    "IFrame(\"https://trinket.io/embed/blocks/1b661715ca?hideGeneratedCode=true\", width=\"100%\", height=\"400\")"
   ]
  },
  {
   "cell_type": "markdown",
   "metadata": {
    "slideshow": {
     "slide_type": "slide"
    }
   },
   "source": [
    "Siguiendo el ejemplo anterior, llamar a una función en Python consiste en lo siguiente:"
   ]
  },
  {
   "cell_type": "code",
   "execution_count": 4,
   "metadata": {
    "slideshow": {
     "slide_type": "fragment"
    }
   },
   "outputs": [],
   "source": [
    "var_resultado = discriminante(1,4,2)"
   ]
  },
  {
   "cell_type": "markdown",
   "metadata": {
    "slideshow": {
     "slide_type": "fragment"
    }
   },
   "source": [
    "Con lo anterior, guardamos el dato que calcula la función (variable `resultado`) en la variable `var_resultado`. Veamos que nos entrega:"
   ]
  },
  {
   "cell_type": "code",
   "execution_count": 5,
   "metadata": {
    "slideshow": {
     "slide_type": "fragment"
    }
   },
   "outputs": [
    {
     "data": {
      "text/plain": [
       "8"
      ]
     },
     "execution_count": 5,
     "metadata": {},
     "output_type": "execute_result"
    }
   ],
   "source": [
    "var_resultado"
   ]
  },
  {
   "cell_type": "markdown",
   "metadata": {
    "slideshow": {
     "slide_type": "fragment"
    }
   },
   "source": [
    "Recuerde utilizar una variable para guardar lo que entrega la función. "
   ]
  },
  {
   "cell_type": "markdown",
   "metadata": {
    "slideshow": {
     "slide_type": "slide"
    }
   },
   "source": [
    "Si quisieramos hacer un programa que nos pudiera resolver las ecuaciones de segundo grado, nuestro código podría ser:"
   ]
  },
  {
   "cell_type": "code",
   "execution_count": 6,
   "metadata": {
    "slideshow": {
     "slide_type": "fragment"
    }
   },
   "outputs": [
    {
     "name": "stdout",
     "output_type": "stream",
     "text": [
      "Ingrese el valor a:1\n",
      "Ingrese el valor b:-1\n",
      "Ingrese el valor c:-12\n",
      "Las soluciones son:\n",
      "sol= -3.0\n",
      "sol2= 4.0\n"
     ]
    }
   ],
   "source": [
    "def discriminante(a,b,c):\n",
    "    resultado = b**2-4*a*c\n",
    "    return resultado\n",
    "\n",
    "p1 = float(input('Ingrese el valor a:'))\n",
    "p2 = float(input('Ingrese el valor b:'))\n",
    "p3 = float(input('Ingrese el valor c:'))\n",
    "\n",
    "var_resultado = discriminante(p1,p2,p3)\n",
    "\n",
    "if var_resultado < 0:\n",
    "    print('La ecuacion no tiene solucion real')\n",
    "elif var_resultado == 0:\n",
    "    sol = -p2 / (2*p1) \n",
    "    print('La solucion es unica y es sol=', sol)\n",
    "else:\n",
    "    sol = (-p2 - (var_resultado**0.5))/(2*p1)\n",
    "    sol2 = (-p2 + (var_resultado**0.5))/(2*p1)\n",
    "    print('Las soluciones son:')\n",
    "    print('sol=', sol)\n",
    "    print('sol2=', sol2)"
   ]
  },
  {
   "cell_type": "markdown",
   "metadata": {
    "slideshow": {
     "slide_type": "slide"
    }
   },
   "source": [
    "## Diferencia entre `print()` y `return`"
   ]
  },
  {
   "cell_type": "markdown",
   "metadata": {
    "slideshow": {
     "slide_type": "fragment"
    }
   },
   "source": [
    "`print()` y `return` pueden tener un comportamiento muy parecido, pero no se les debe confundir, ya que son instrucciones **completamente** diferentes."
   ]
  },
  {
   "cell_type": "markdown",
   "metadata": {
    "slideshow": {
     "slide_type": "fragment"
    }
   },
   "source": [
    "* `return` es el **resultado de una funcion**, por lo tanto solo debe ir dentro de una función.\n",
    "* `print()` es una **salida de un programa**, puede ir tanto en una función (aunque no es tan común) como en el código de un programa principal (el main).\n",
    "* `return` se comporta muy parecido al `print()` cuando a la función se le llama de la consola (shell).\n",
    "* Lo anterior cambia cuando el codigo se ejecuta desde el archivo."
   ]
  },
  {
   "cell_type": "markdown",
   "metadata": {
    "slideshow": {
     "slide_type": "slide"
    }
   },
   "source": [
    "Recordemos la función, la cual estará guardada en un archivo llamado `prueba.py`:"
   ]
  },
  {
   "cell_type": "code",
   "execution_count": 7,
   "metadata": {
    "collapsed": true,
    "slideshow": {
     "slide_type": "fragment"
    }
   },
   "outputs": [],
   "source": [
    "def discriminante(a,b,c):\n",
    "    resultado = b**2-4*a*c\n",
    "    return resultado"
   ]
  },
  {
   "cell_type": "markdown",
   "metadata": {
    "slideshow": {
     "slide_type": "fragment"
    }
   },
   "source": [
    "Al ejecutar el archivo `prueba.py` no nos mostrará ningun resultado por pantalla, ya que el `return` no se comporta como un `print()` cuando se ejecuta desde un archivo."
   ]
  },
  {
   "cell_type": "markdown",
   "metadata": {
    "slideshow": {
     "slide_type": "slide"
    }
   },
   "source": [
    "Para obtener resultado por pantalla, se debe llamar la función:"
   ]
  },
  {
   "cell_type": "code",
   "execution_count": 8,
   "metadata": {
    "slideshow": {
     "slide_type": "fragment"
    }
   },
   "outputs": [
    {
     "data": {
      "text/plain": [
       "-12"
      ]
     },
     "execution_count": 8,
     "metadata": {},
     "output_type": "execute_result"
    }
   ],
   "source": [
    "discriminante(1,2,4)"
   ]
  },
  {
   "cell_type": "markdown",
   "metadata": {
    "slideshow": {
     "slide_type": "slide"
    }
   },
   "source": [
    "Si queremos que al ejecutar el archivo `prueba.py` muestre inmediatamente el resultado de la función, debemos llamar a la función incluyendo un `print()`. \n",
    "\n",
    "Nuestro archivo `prueba.py` entonces quedaria como:"
   ]
  },
  {
   "cell_type": "code",
   "execution_count": 9,
   "metadata": {
    "slideshow": {
     "slide_type": "fragment"
    }
   },
   "outputs": [
    {
     "name": "stdout",
     "output_type": "stream",
     "text": [
      "-12\n"
     ]
    }
   ],
   "source": [
    "def discriminante(a,b,c):\n",
    "    resultado = b**2-4*a*c\n",
    "    return resultado\n",
    "\n",
    "print(discriminante(1,2,4))"
   ]
  },
  {
   "cell_type": "markdown",
   "metadata": {
    "slideshow": {
     "slide_type": "fragment"
    }
   },
   "source": [
    "Debemos ejecutar la función desde la consola para que nos entregue el resultado. Y al llamarla, debemos entregarle los valores de los parámetros. NO OLVIDAR!!"
   ]
  },
  {
   "cell_type": "markdown",
   "metadata": {
    "slideshow": {
     "slide_type": "fragment"
    }
   },
   "source": [
    "Lo que hace python es cargar la función en memoria y luego mostrar por pantalla (gracias al `print()`) el resultado de llamarla."
   ]
  },
  {
   "cell_type": "markdown",
   "metadata": {
    "slideshow": {
     "slide_type": "slide"
    }
   },
   "source": [
    "## Ejercicios"
   ]
  },
  {
   "cell_type": "markdown",
   "metadata": {
    "slideshow": {
     "slide_type": "slide"
    }
   },
   "source": [
    "**1.-** Escriba la función `promedio(n1, n2, n3)` que reciba las notas de los 3 certámenes de la asignatura y retorne el valor del promedio."
   ]
  },
  {
   "cell_type": "code",
   "execution_count": 10,
   "metadata": {
    "collapsed": true,
    "slideshow": {
     "slide_type": "fragment"
    }
   },
   "outputs": [],
   "source": [
    "def promedio(n1, n2, n3):\n",
    "    suma = p1 + p2 + p3\n",
    "    prom = suma/3\n",
    "    return prom"
   ]
  },
  {
   "cell_type": "markdown",
   "metadata": {
    "slideshow": {
     "slide_type": "slide"
    }
   },
   "source": [
    "**2.-** El riesgo  de que una persona  sufra enfermedades coronarias depende de su edad y su índice de masa corporal.\n",
    "\n",
    "El Indice de masa corporal (IMC)  es el cociente entre el peso del individuo  en kilos y el cuadrado de su estatura en metros.\n",
    "\n",
    "Escriba  una función que reciba como parámetros la estatura, el peso y la edad de la persona , y le entregue su condición de riesgo.\n",
    "\n",
    "<table style=\"font-size: 0.9em\">\n",
    "    <thead>\n",
    "        <td></td>\n",
    "        <td><b>edad &lt; 45</b></td>\n",
    "        <td><b>edad &ge; 45</b></td>\n",
    "    </thead>\n",
    "    <tr>\n",
    "        <td><b>IMC &lt; 22</b></td>\n",
    "        <td>bajo</td>\n",
    "        <td>medio</td>\n",
    "    </tr>\n",
    "    <tr>\n",
    "        <td><b>IMC &ge; 22</b></td>\n",
    "        <td>medio</td>\n",
    "        <td>alto</td>\n",
    "    </tr>\n",
    "</table>"
   ]
  },
  {
   "cell_type": "code",
   "execution_count": 11,
   "metadata": {
    "collapsed": true,
    "slideshow": {
     "slide_type": "slide"
    }
   },
   "outputs": [],
   "source": [
    "def IMC(est, peso, edad):\n",
    "    indice = peso/(est**2)\n",
    "    if edad < 45:\n",
    "        if indice < 22.0:\n",
    "            condicion = 'bajo'\n",
    "        else:\n",
    "            condicion = 'medio'\n",
    "    else:\n",
    "        if indice < 22.0:\n",
    "            condicion = 'medio'\n",
    "        else:\n",
    "            condicion = 'alto'\n",
    "    return condicion"
   ]
  },
  {
   "cell_type": "markdown",
   "metadata": {
    "slideshow": {
     "slide_type": "slide"
    }
   },
   "source": [
    "**3.-** Un viajero desea saber cuánto tiempo tomó un viaje que realizó. Él conoce la duración (en minutos) de cada uno de los tramos del viaje por separado.\n",
    "\n",
    "Desarrolle un programa, **que contenga al menos una función**, que permita ingresar los tiempos de viaje de los tramos y entregue como resultado el tiempo total de viaje en formato: `horas` horas con `minutos` minutos\n",
    "\n",
    "El programa deja de pedir tiempos de viaje cuando se ingresa un **0**.\n",
    "\n",
    "**Ejemplo:**\n",
    "* Duración del tramo: **15**\n",
    "* Duración del tramo: **30**\n",
    "* Duración del tramo: **87**\n",
    "* Duración del tramo: **0**\n",
    "* Tiempo total de viaje : 2 horas con 12 minutos"
   ]
  },
  {
   "cell_type": "code",
   "execution_count": 12,
   "metadata": {
    "slideshow": {
     "slide_type": "slide"
    }
   },
   "outputs": [
    {
     "name": "stdout",
     "output_type": "stream",
     "text": [
      "Duracion del tramo: 40\n",
      "Duracion del tramo: 30\n",
      "Duracion del tramo: 60\n",
      "Duracion del tramo: 70\n",
      "Duracion del tramo: 0\n",
      "Tiempo total de viaje: 3 horas con 20 minutos\n"
     ]
    }
   ],
   "source": [
    "def transformacion(total_min):\n",
    "    horas = total_min/60\n",
    "    return int(horas)\n",
    "\n",
    "def transformacion2(total_min):\n",
    "    minutos = total_min%60\n",
    "    return minutos\n",
    "\n",
    "flag = True\n",
    "total_min = 0\n",
    "while flag:\n",
    "    minutos = int(input('Duracion del tramo: '))\n",
    "    if minutos == 0:\n",
    "        flag = False\n",
    "    else:\n",
    "        total_min = total_min + minutos\n",
    "\n",
    "horas = transformacion(total_min)\n",
    "minutos = transformacion2(total_min)\n",
    "print('Tiempo total de viaje:', horas, 'horas con', minutos, 'minutos')"
   ]
  },
  {
   "cell_type": "markdown",
   "metadata": {
    "slideshow": {
     "slide_type": "slide"
    }
   },
   "source": [
    "**4.-** Realice el ruteo del problema anterior con las siguientes duraciones de tramos: 40, 35, 60, 70."
   ]
  },
  {
   "cell_type": "code",
   "execution_count": null,
   "metadata": {
    "collapsed": true
   },
   "outputs": [],
   "source": []
  }
 ],
 "metadata": {
  "celltoolbar": "Slideshow",
  "kernelspec": {
   "display_name": "Python 3",
   "language": "python",
   "name": "python3"
  },
  "language_info": {
   "codemirror_mode": {
    "name": "ipython",
    "version": 3
   },
   "file_extension": ".py",
   "mimetype": "text/x-python",
   "name": "python",
   "nbconvert_exporter": "python",
   "pygments_lexer": "ipython3",
   "version": "3.5.2"
  }
 },
 "nbformat": 4,
 "nbformat_minor": 2
}
