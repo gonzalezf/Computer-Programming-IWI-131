{
 "cells": [
  {
   "cell_type": "markdown",
   "metadata": {
    "slideshow": {
     "slide_type": "slide"
    }
   },
   "source": [
    "<img src=\"images/di.png\" alt=\"\" width=\"200px\" align=\"left\"/>\n",
    "<img src=\"images/utfsm.png\" alt=\"\" width=\"150px\" align=\"right\"/>\n",
    "\n",
    "<br/>\n",
    "<div align=\"center\">\n",
    "<h1>IWI131 Programación</h1><br/>\n",
    "<h2>Manejo de Strings</h2>\n",
    "<br/><br/>\n",
    "Departamento de Informática<br/>\n",
    "Universidad Técnica Federico Santa María\n",
    "</div>"
   ]
  },
  {
   "cell_type": "markdown",
   "metadata": {
    "slideshow": {
     "slide_type": "slide"
    }
   },
   "source": [
    "# Strings"
   ]
  },
  {
   "cell_type": "markdown",
   "metadata": {
    "slideshow": {
     "slide_type": "fragment"
    }
   },
   "source": [
    "Son el tipo de dato usado para representar texto en Python."
   ]
  },
  {
   "cell_type": "markdown",
   "metadata": {
    "slideshow": {
     "slide_type": "slide"
    }
   },
   "source": [
    "## Usando strings para entradas y salidas"
   ]
  },
  {
   "cell_type": "markdown",
   "metadata": {
    "slideshow": {
     "slide_type": "fragment"
    }
   },
   "source": [
    "Anteriormente, los strings se utilizaron en entradas y salidas de datos."
   ]
  },
  {
   "cell_type": "code",
   "execution_count": 1,
   "metadata": {
    "slideshow": {
     "slide_type": "fragment"
    }
   },
   "outputs": [
    {
     "name": "stdout",
     "output_type": "stream",
     "text": [
      "Ingrese su nombre: Felipe\n"
     ]
    }
   ],
   "source": [
    "nombre = input(\"Ingrese su nombre: \")"
   ]
  },
  {
   "cell_type": "code",
   "execution_count": 2,
   "metadata": {
    "slideshow": {
     "slide_type": "fragment"
    }
   },
   "outputs": [
    {
     "data": {
      "text/plain": [
       "'Felipe'"
      ]
     },
     "execution_count": 2,
     "metadata": {},
     "output_type": "execute_result"
    }
   ],
   "source": [
    "nombre"
   ]
  },
  {
   "cell_type": "code",
   "execution_count": 3,
   "metadata": {
    "slideshow": {
     "slide_type": "fragment"
    }
   },
   "outputs": [
    {
     "name": "stdout",
     "output_type": "stream",
     "text": [
      "Mi nombre es Felipe\n"
     ]
    }
   ],
   "source": [
    "print(\"Mi nombre es\",nombre)"
   ]
  },
  {
   "cell_type": "markdown",
   "metadata": {
    "slideshow": {
     "slide_type": "slide"
    }
   },
   "source": [
    "## Strings vacíos"
   ]
  },
  {
   "cell_type": "markdown",
   "metadata": {
    "slideshow": {
     "slide_type": "fragment"
    }
   },
   "source": [
    "Los valores literales `''` y `\"\"` representan **strings vacíos**, es decir, un texto que no contiene caracteres."
   ]
  },
  {
   "cell_type": "code",
   "execution_count": 4,
   "metadata": {
    "slideshow": {
     "slide_type": "fragment"
    }
   },
   "outputs": [
    {
     "name": "stdout",
     "output_type": "stream",
     "text": [
      "\n"
     ]
    }
   ],
   "source": [
    "print(\"\")"
   ]
  },
  {
   "cell_type": "code",
   "execution_count": 5,
   "metadata": {
    "slideshow": {
     "slide_type": "fragment"
    }
   },
   "outputs": [
    {
     "data": {
      "text/plain": [
       "''"
      ]
     },
     "execution_count": 5,
     "metadata": {},
     "output_type": "execute_result"
    }
   ],
   "source": [
    "\"\""
   ]
  },
  {
   "cell_type": "code",
   "execution_count": 6,
   "metadata": {
    "slideshow": {
     "slide_type": "fragment"
    }
   },
   "outputs": [
    {
     "data": {
      "text/plain": [
       "''"
      ]
     },
     "execution_count": 6,
     "metadata": {},
     "output_type": "execute_result"
    }
   ],
   "source": [
    "''"
   ]
  },
  {
   "cell_type": "markdown",
   "metadata": {
    "slideshow": {
     "slide_type": "slide"
    }
   },
   "source": [
    "## Estructura de un String"
   ]
  },
  {
   "cell_type": "markdown",
   "metadata": {
    "slideshow": {
     "slide_type": "fragment"
    }
   },
   "source": [
    "Un string (que no es el string vacío) se compone de varios elementos, llamados **caracteres**. "
   ]
  },
  {
   "cell_type": "code",
   "execution_count": 7,
   "metadata": {
    "slideshow": {
     "slide_type": "fragment"
    }
   },
   "outputs": [
    {
     "data": {
      "text/plain": [
       "'hola mundo!'"
      ]
     },
     "execution_count": 7,
     "metadata": {},
     "output_type": "execute_result"
    }
   ],
   "source": [
    "\"hola mundo!\""
   ]
  },
  {
   "cell_type": "markdown",
   "metadata": {
    "slideshow": {
     "slide_type": "slide"
    }
   },
   "source": [
    "### Índice de un string"
   ]
  },
  {
   "cell_type": "markdown",
   "metadata": {
    "slideshow": {
     "slide_type": "fragment"
    }
   },
   "source": [
    "Es posible enumerar los caracteres de un string, **desde cero para el primer caracter** y aumentándo la enumeración en sentido izquierda-derecha."
   ]
  },
  {
   "cell_type": "markdown",
   "metadata": {
    "slideshow": {
     "slide_type": "fragment"
    }
   },
   "source": [
    "<table style=\"font-size: 1em; float:center;\">\n",
    "    <thead>\n",
    "        <td style=\"border-right: 1px solid black;\">h</td>\n",
    "        <td style=\"border-right: 1px solid black;\">o</td>\n",
    "        <td style=\"border-right: 1px solid black;\">l</td>\n",
    "        <td style=\"border-right: 1px solid black;\">a</td>\n",
    "        <td style=\"border-right: 1px solid black;\"> </td>\n",
    "        <td style=\"border-right: 1px solid black;\">m</td>\n",
    "        <td style=\"border-right: 1px solid black;\">u</td>\n",
    "        <td style=\"border-right: 1px solid black;\">n</td>\n",
    "        <td style=\"border-right: 1px solid black;\">d</td>\n",
    "        <td style=\"border-right: 1px solid black;\">o</td>\n",
    "        <td>!</td>\n",
    "    </thead>\n",
    "    <tr>\n",
    "        <td style=\"border-right: 1px solid black;\">0</td>\n",
    "        <td style=\"border-right: 1px solid black;\">1</td>\n",
    "        <td style=\"border-right: 1px solid black;\">2</td>\n",
    "        <td style=\"border-right: 1px solid black;\">3</td>\n",
    "        <td style=\"border-right: 1px solid black;\">4</td>\n",
    "        <td style=\"border-right: 1px solid black;\">5</td>\n",
    "        <td style=\"border-right: 1px solid black;\">6</td>\n",
    "        <td style=\"border-right: 1px solid black;\">7</td>\n",
    "        <td style=\"border-right: 1px solid black;\">8</td>\n",
    "        <td style=\"border-right: 1px solid black;\">9</td>\n",
    "        <td>10</td>\n",
    "    </tr>\n",
    "</table>"
   ]
  },
  {
   "cell_type": "markdown",
   "metadata": {
    "slideshow": {
     "slide_type": "slide"
    }
   },
   "source": [
    "### Acceder al caracter de un string mediante indexación"
   ]
  },
  {
   "cell_type": "markdown",
   "metadata": {
    "slideshow": {
     "slide_type": "fragment"
    }
   },
   "source": [
    "Cuando una variable es de tipo string, es posible acceder al caracter que se encuentra en en índice i-ésimo usando corchetes."
   ]
  },
  {
   "cell_type": "code",
   "execution_count": 8,
   "metadata": {
    "slideshow": {
     "slide_type": "fragment"
    }
   },
   "outputs": [
    {
     "name": "stdout",
     "output_type": "stream",
     "text": [
      "m\n"
     ]
    }
   ],
   "source": [
    "a = \"hola mundo!\"\n",
    "#obtiene el caracter que esta en el indice 5 y lo muestra por pantalla\n",
    "print(a[5])"
   ]
  },
  {
   "cell_type": "code",
   "execution_count": 9,
   "metadata": {
    "slideshow": {
     "slide_type": "fragment"
    }
   },
   "outputs": [
    {
     "data": {
      "text/plain": [
       "'m'"
      ]
     },
     "execution_count": 9,
     "metadata": {},
     "output_type": "execute_result"
    }
   ],
   "source": [
    "#evalua el valor del índice 5 en la variable a\n",
    "a[5]"
   ]
  },
  {
   "cell_type": "markdown",
   "metadata": {
    "slideshow": {
     "slide_type": "slide"
    }
   },
   "source": [
    "También es posible enumerar los caracteres de un string usando índices negativos:"
   ]
  },
  {
   "cell_type": "markdown",
   "metadata": {
    "slideshow": {
     "slide_type": "fragment"
    }
   },
   "source": [
    "<table style=\"font-size: 1em; float:center;\">\n",
    "    <thead>\n",
    "        <td style=\"border-right: 1px solid black;\">h</td>\n",
    "        <td style=\"border-right: 1px solid black;\">o</td>\n",
    "        <td style=\"border-right: 1px solid black;\">l</td>\n",
    "        <td style=\"border-right: 1px solid black;\">a</td>\n",
    "        <td style=\"border-right: 1px solid black;\"> </td>\n",
    "        <td style=\"border-right: 1px solid black;\">m</td>\n",
    "        <td style=\"border-right: 1px solid black;\">u</td>\n",
    "        <td style=\"border-right: 1px solid black;\">n</td>\n",
    "        <td style=\"border-right: 1px solid black;\">d</td>\n",
    "        <td style=\"border-right: 1px solid black;\">o</td>\n",
    "        <td>!</td>\n",
    "    </thead>\n",
    "    <tr>\n",
    "        <td style=\"border-right: 1px solid black;\">-11</td>\n",
    "        <td style=\"border-right: 1px solid black;\">-10</td>\n",
    "        <td style=\"border-right: 1px solid black;\">-9</td>\n",
    "        <td style=\"border-right: 1px solid black;\">-8</td>\n",
    "        <td style=\"border-right: 1px solid black;\">-7</td>\n",
    "        <td style=\"border-right: 1px solid black;\">-6</td>\n",
    "        <td style=\"border-right: 1px solid black;\">-5</td>\n",
    "        <td style=\"border-right: 1px solid black;\">-4</td>\n",
    "        <td style=\"border-right: 1px solid black;\">-3</td>\n",
    "        <td style=\"border-right: 1px solid black;\">-2</td>\n",
    "        <td>-1</td>\n",
    "    </tr>\n",
    "</table>"
   ]
  },
  {
   "cell_type": "code",
   "execution_count": 10,
   "metadata": {
    "slideshow": {
     "slide_type": "fragment"
    }
   },
   "outputs": [
    {
     "name": "stdout",
     "output_type": "stream",
     "text": [
      "!\n"
     ]
    }
   ],
   "source": [
    "a = \"hola mundo!\"\n",
    "#obtiene el ultimo caracter y lo muestra por pantalla\n",
    "print(a[-1])"
   ]
  },
  {
   "cell_type": "code",
   "execution_count": 11,
   "metadata": {
    "slideshow": {
     "slide_type": "fragment"
    }
   },
   "outputs": [
    {
     "data": {
      "text/plain": [
       "'!'"
      ]
     },
     "execution_count": 11,
     "metadata": {},
     "output_type": "execute_result"
    }
   ],
   "source": [
    "#evalua el valor del índice -1 en la variable a\n",
    "a[-1]"
   ]
  },
  {
   "cell_type": "markdown",
   "metadata": {
    "slideshow": {
     "slide_type": "slide"
    }
   },
   "source": [
    "## Substrings"
   ]
  },
  {
   "cell_type": "markdown",
   "metadata": {
    "slideshow": {
     "slide_type": "fragment"
    }
   },
   "source": [
    "Utilizando los corchetes es posible obtener una parte de un string (substring), es decir, algunos de sus caracteres."
   ]
  },
  {
   "cell_type": "markdown",
   "metadata": {
    "slideshow": {
     "slide_type": "slide"
    }
   },
   "source": [
    "`s[inicio:fin]` entrega un string con todos los caracteres desde el índice `inicio`, hasta el índice `fin-1`."
   ]
  },
  {
   "cell_type": "markdown",
   "metadata": {
    "slideshow": {
     "slide_type": "fragment"
    }
   },
   "source": [
    "Por ejemplo, `a[3:7]`, donde `a = \"hola mundo!\"` corresponde al substring `'a mu'`"
   ]
  },
  {
   "cell_type": "markdown",
   "metadata": {
    "slideshow": {
     "slide_type": "fragment"
    }
   },
   "source": [
    "<table style=\"font-size: 1em; float:center;\">\n",
    "    <thead>\n",
    "        <td style=\"border-right: 1px solid black;\">h</td>\n",
    "        <td style=\"border-right: 1px solid black;\">o</td>\n",
    "        <td style=\"border-right: 1px solid black;\">l</td>\n",
    "        <td style=\"border-right: 1px solid black;\">a</td>\n",
    "        <td style=\"border-right: 1px solid black;\"> </td>\n",
    "        <td style=\"border-right: 1px solid black;\">m</td>\n",
    "        <td style=\"border-right: 1px solid black;\">u</td>\n",
    "        <td style=\"border-right: 1px solid black;\">n</td>\n",
    "        <td style=\"border-right: 1px solid black;\">d</td>\n",
    "        <td style=\"border-right: 1px solid black;\">o</td>\n",
    "        <td>!</td>\n",
    "    </thead>\n",
    "    <tr>\n",
    "        <td style=\"border-right: 1px solid black;\"></td>\n",
    "        <td style=\"border-right: 1px solid black;\"></td>\n",
    "        <td style=\"border-right: 1px solid black;\"></td>\n",
    "        <td style=\"border-right: 1px solid black;\">3</td>\n",
    "        <td style=\"border-right: 1px solid black;\">4</td>\n",
    "        <td style=\"border-right: 1px solid black;\">5</td>\n",
    "        <td style=\"border-right: 1px solid black;\">6</td>\n",
    "        <td style=\"border-right: 1px solid black;\"></td>\n",
    "        <td style=\"border-right: 1px solid black;\"></td>\n",
    "        <td style=\"border-right: 1px solid black;\"></td>\n",
    "        <td></td>\n",
    "    </tr>\n",
    "</table>"
   ]
  },
  {
   "cell_type": "code",
   "execution_count": 12,
   "metadata": {
    "slideshow": {
     "slide_type": "fragment"
    }
   },
   "outputs": [
    {
     "name": "stdout",
     "output_type": "stream",
     "text": [
      "a mu\n"
     ]
    }
   ],
   "source": [
    "a = \"hola mundo!\"\n",
    "b = a[3:7]\n",
    "print(b)"
   ]
  },
  {
   "cell_type": "markdown",
   "metadata": {
    "slideshow": {
     "slide_type": "slide"
    }
   },
   "source": [
    "Omitiendo `inicio`, se asume que el substring parte desde el inicio del string original."
   ]
  },
  {
   "cell_type": "markdown",
   "metadata": {
    "slideshow": {
     "slide_type": "fragment"
    }
   },
   "source": [
    "Ejemplo, `a[:6]`, donde `a = \"hola mundo!\"` corresponde al substring `'hola m'`."
   ]
  },
  {
   "cell_type": "markdown",
   "metadata": {
    "slideshow": {
     "slide_type": "fragment"
    }
   },
   "source": [
    "<table style=\"font-size: 1em; float:center;\">\n",
    "    <thead>\n",
    "        <td style=\"border-right: 1px solid black;\">h</td>\n",
    "        <td style=\"border-right: 1px solid black;\">o</td>\n",
    "        <td style=\"border-right: 1px solid black;\">l</td>\n",
    "        <td style=\"border-right: 1px solid black;\">a</td>\n",
    "        <td style=\"border-right: 1px solid black;\"> </td>\n",
    "        <td style=\"border-right: 1px solid black;\">m</td>\n",
    "        <td style=\"border-right: 1px solid black;\">u</td>\n",
    "        <td style=\"border-right: 1px solid black;\">n</td>\n",
    "        <td style=\"border-right: 1px solid black;\">d</td>\n",
    "        <td style=\"border-right: 1px solid black;\">o</td>\n",
    "        <td>!</td>\n",
    "    </thead>\n",
    "    <tr>\n",
    "        <td style=\"border-right: 1px solid black;\">0</td>\n",
    "        <td style=\"border-right: 1px solid black;\">1</td>\n",
    "        <td style=\"border-right: 1px solid black;\">2</td>\n",
    "        <td style=\"border-right: 1px solid black;\">3</td>\n",
    "        <td style=\"border-right: 1px solid black;\">4</td>\n",
    "        <td style=\"border-right: 1px solid black;\">5</td>\n",
    "        <td style=\"border-right: 1px solid black;\"></td>\n",
    "        <td style=\"border-right: 1px solid black;\"></td>\n",
    "        <td style=\"border-right: 1px solid black;\"></td>\n",
    "        <td style=\"border-right: 1px solid black;\"></td>\n",
    "        <td></td>\n",
    "    </tr>\n",
    "</table>"
   ]
  },
  {
   "cell_type": "code",
   "execution_count": 13,
   "metadata": {
    "slideshow": {
     "slide_type": "fragment"
    }
   },
   "outputs": [
    {
     "name": "stdout",
     "output_type": "stream",
     "text": [
      "hola m\n"
     ]
    }
   ],
   "source": [
    "a = \"hola mundo!\"\n",
    "b = a[:6]\n",
    "print(b)"
   ]
  },
  {
   "cell_type": "markdown",
   "metadata": {
    "slideshow": {
     "slide_type": "slide"
    }
   },
   "source": [
    "Omitiendo `fin`, se asume que el substring termina cuando termina el string original."
   ]
  },
  {
   "cell_type": "markdown",
   "metadata": {
    "slideshow": {
     "slide_type": "fragment"
    }
   },
   "source": [
    "Ejemplo, `a[2:]`, donde `a = \"hola mundo!\"` corresponde al substring `'la mundo!'`."
   ]
  },
  {
   "cell_type": "markdown",
   "metadata": {
    "slideshow": {
     "slide_type": "fragment"
    }
   },
   "source": [
    "<table style=\"font-size: 1em; float:center;\">\n",
    "    <thead>\n",
    "        <td style=\"border-right: 1px solid black;\">h</td>\n",
    "        <td style=\"border-right: 1px solid black;\">o</td>\n",
    "        <td style=\"border-right: 1px solid black;\">l</td>\n",
    "        <td style=\"border-right: 1px solid black;\">a</td>\n",
    "        <td style=\"border-right: 1px solid black;\"> </td>\n",
    "        <td style=\"border-right: 1px solid black;\">m</td>\n",
    "        <td style=\"border-right: 1px solid black;\">u</td>\n",
    "        <td style=\"border-right: 1px solid black;\">n</td>\n",
    "        <td style=\"border-right: 1px solid black;\">d</td>\n",
    "        <td style=\"border-right: 1px solid black;\">o</td>\n",
    "        <td>!</td>\n",
    "    </thead>\n",
    "    <tr>\n",
    "        <td style=\"border-right: 1px solid black;\"></td>\n",
    "        <td style=\"border-right: 1px solid black;\"></td>\n",
    "        <td style=\"border-right: 1px solid black;\">2</td>\n",
    "        <td style=\"border-right: 1px solid black;\">3</td>\n",
    "        <td style=\"border-right: 1px solid black;\">4</td>\n",
    "        <td style=\"border-right: 1px solid black;\">5</td>\n",
    "        <td style=\"border-right: 1px solid black;\">6</td>\n",
    "        <td style=\"border-right: 1px solid black;\">7</td>\n",
    "        <td style=\"border-right: 1px solid black;\">8</td>\n",
    "        <td style=\"border-right: 1px solid black;\">9</td>\n",
    "        <td>10</td>\n",
    "    </tr>\n",
    "</table>"
   ]
  },
  {
   "cell_type": "code",
   "execution_count": 14,
   "metadata": {
    "slideshow": {
     "slide_type": "fragment"
    }
   },
   "outputs": [
    {
     "name": "stdout",
     "output_type": "stream",
     "text": [
      "la mundo!\n"
     ]
    }
   ],
   "source": [
    "a = \"hola mundo!\"\n",
    "b = a[2:]\n",
    "print(b)"
   ]
  },
  {
   "cell_type": "markdown",
   "metadata": {
    "slideshow": {
     "slide_type": "slide"
    }
   },
   "source": [
    "¿Qué ocurre en los siguientes casos?"
   ]
  },
  {
   "cell_type": "code",
   "execution_count": 15,
   "metadata": {
    "slideshow": {
     "slide_type": "fragment"
    }
   },
   "outputs": [],
   "source": [
    "a = \"hola mundo!\""
   ]
  },
  {
   "cell_type": "code",
   "execution_count": 16,
   "metadata": {
    "slideshow": {
     "slide_type": "fragment"
    }
   },
   "outputs": [
    {
     "data": {
      "text/plain": [
       "'mu'"
      ]
     },
     "execution_count": 16,
     "metadata": {},
     "output_type": "execute_result"
    }
   ],
   "source": [
    "a[5:7]"
   ]
  },
  {
   "cell_type": "code",
   "execution_count": 17,
   "metadata": {
    "slideshow": {
     "slide_type": "fragment"
    }
   },
   "outputs": [
    {
     "data": {
      "text/plain": [
       "'do'"
      ]
     },
     "execution_count": 17,
     "metadata": {},
     "output_type": "execute_result"
    }
   ],
   "source": [
    "a[-3:-1]"
   ]
  },
  {
   "cell_type": "code",
   "execution_count": 18,
   "metadata": {
    "slideshow": {
     "slide_type": "fragment"
    }
   },
   "outputs": [
    {
     "data": {
      "text/plain": [
       "'la mundo'"
      ]
     },
     "execution_count": 18,
     "metadata": {},
     "output_type": "execute_result"
    }
   ],
   "source": [
    "a[2:-1]"
   ]
  },
  {
   "cell_type": "code",
   "execution_count": 19,
   "metadata": {
    "slideshow": {
     "slide_type": "fragment"
    }
   },
   "outputs": [
    {
     "data": {
      "text/plain": [
       "''"
      ]
     },
     "execution_count": 19,
     "metadata": {},
     "output_type": "execute_result"
    }
   ],
   "source": [
    "a[-1:4]"
   ]
  },
  {
   "cell_type": "markdown",
   "metadata": {
    "slideshow": {
     "slide_type": "slide"
    }
   },
   "source": [
    "## Operaciones elementales sobre Strings"
   ]
  },
  {
   "cell_type": "markdown",
   "metadata": {
    "slideshow": {
     "slide_type": "fragment"
    }
   },
   "source": [
    "Algunos operadores definidos anteriormente para números, pueden utilizarse sobre strings."
   ]
  },
  {
   "cell_type": "markdown",
   "metadata": {
    "slideshow": {
     "slide_type": "fragment"
    }
   },
   "source": [
    "- Concatenación de strings (`+`)\n",
    "- Repetición de strings (`*`)"
   ]
  },
  {
   "cell_type": "markdown",
   "metadata": {
    "slideshow": {
     "slide_type": "slide"
    }
   },
   "source": [
    "Algunos ejemplos:"
   ]
  },
  {
   "cell_type": "code",
   "execution_count": 20,
   "metadata": {
    "slideshow": {
     "slide_type": "fragment"
    }
   },
   "outputs": [
    {
     "data": {
      "text/plain": [
       "'holamundo'"
      ]
     },
     "execution_count": 20,
     "metadata": {},
     "output_type": "execute_result"
    }
   ],
   "source": [
    "\"hola\" +  \"mundo\""
   ]
  },
  {
   "cell_type": "code",
   "execution_count": 21,
   "metadata": {
    "slideshow": {
     "slide_type": "fragment"
    }
   },
   "outputs": [
    {
     "name": "stdout",
     "output_type": "stream",
     "text": [
      "4al cuadrado es16\n"
     ]
    }
   ],
   "source": [
    "x = 4\n",
    "c = 4**2\n",
    "mensaje = str(4)+\"al cuadrado es\"+str(c)\n",
    "print(mensaje)"
   ]
  },
  {
   "cell_type": "code",
   "execution_count": 22,
   "metadata": {
    "slideshow": {
     "slide_type": "fragment"
    }
   },
   "outputs": [
    {
     "name": "stdout",
     "output_type": "stream",
     "text": [
      "4 al cuadrado es 16\n"
     ]
    }
   ],
   "source": [
    "x = 4\n",
    "c = 4**2\n",
    "mensaje = str(4)+\" al cuadrado es \"+str(c)\n",
    "print(mensaje)"
   ]
  },
  {
   "cell_type": "code",
   "execution_count": 23,
   "metadata": {
    "slideshow": {
     "slide_type": "slide"
    }
   },
   "outputs": [
    {
     "data": {
      "text/plain": [
       "'wakawaka'"
      ]
     },
     "execution_count": 23,
     "metadata": {},
     "output_type": "execute_result"
    }
   ],
   "source": [
    "\"waka\"*2"
   ]
  },
  {
   "cell_type": "code",
   "execution_count": 24,
   "metadata": {
    "slideshow": {
     "slide_type": "fragment"
    }
   },
   "outputs": [
    {
     "data": {
      "text/plain": [
       "'fizzfizzfizz'"
      ]
     },
     "execution_count": 24,
     "metadata": {},
     "output_type": "execute_result"
    }
   ],
   "source": [
    "\"fizz\"*3"
   ]
  },
  {
   "cell_type": "code",
   "execution_count": 25,
   "metadata": {
    "slideshow": {
     "slide_type": "fragment"
    }
   },
   "outputs": [
    {
     "data": {
      "text/plain": [
       "'fizzbuzzbuzzbuzzbuzz'"
      ]
     },
     "execution_count": 25,
     "metadata": {},
     "output_type": "execute_result"
    }
   ],
   "source": [
    "\"fizz\"+\"buzz\"*4"
   ]
  },
  {
   "cell_type": "markdown",
   "metadata": {
    "slideshow": {
     "slide_type": "slide"
    }
   },
   "source": [
    "### Otras operaciones para strings"
   ]
  },
  {
   "cell_type": "markdown",
   "metadata": {
    "slideshow": {
     "slide_type": "fragment"
    }
   },
   "source": [
    "1. La instrucción `in` permite saber si un substring está contenido dentro de un string. Es similar a un operador de comparación, por lo que entrega valores `True` o `False`. Se puede negar con el operador lógico `not`."
   ]
  },
  {
   "cell_type": "code",
   "execution_count": 26,
   "metadata": {
    "slideshow": {
     "slide_type": "fragment"
    }
   },
   "outputs": [
    {
     "data": {
      "text/plain": [
       "True"
      ]
     },
     "execution_count": 26,
     "metadata": {},
     "output_type": "execute_result"
    }
   ],
   "source": [
    "\"pollo\" in \"repollos\""
   ]
  },
  {
   "cell_type": "code",
   "execution_count": 27,
   "metadata": {
    "slideshow": {
     "slide_type": "fragment"
    }
   },
   "outputs": [
    {
     "data": {
      "text/plain": [
       "False"
      ]
     },
     "execution_count": 27,
     "metadata": {},
     "output_type": "execute_result"
    }
   ],
   "source": [
    "\"pollo\" in \"gallinero\""
   ]
  },
  {
   "cell_type": "code",
   "execution_count": 28,
   "metadata": {
    "slideshow": {
     "slide_type": "fragment"
    }
   },
   "outputs": [
    {
     "data": {
      "text/plain": [
       "False"
      ]
     },
     "execution_count": 28,
     "metadata": {},
     "output_type": "execute_result"
    }
   ],
   "source": [
    "\"agua\" not in \"paraguas\""
   ]
  },
  {
   "cell_type": "markdown",
   "metadata": {
    "slideshow": {
     "slide_type": "slide"
    }
   },
   "source": [
    "2. La función `len(s)` entrega como resultado la **cantidad de caracteres** del string `s` pasado como parámetro."
   ]
  },
  {
   "cell_type": "code",
   "execution_count": 29,
   "metadata": {
    "slideshow": {
     "slide_type": "fragment"
    }
   },
   "outputs": [
    {
     "data": {
      "text/plain": [
       "4"
      ]
     },
     "execution_count": 29,
     "metadata": {},
     "output_type": "execute_result"
    }
   ],
   "source": [
    "len(\"casa\")"
   ]
  },
  {
   "cell_type": "code",
   "execution_count": 30,
   "metadata": {
    "slideshow": {
     "slide_type": "fragment"
    }
   },
   "outputs": [
    {
     "data": {
      "text/plain": [
       "11"
      ]
     },
     "execution_count": 30,
     "metadata": {},
     "output_type": "execute_result"
    }
   ],
   "source": [
    "len(\"hola mundo!\")"
   ]
  },
  {
   "cell_type": "code",
   "execution_count": 31,
   "metadata": {
    "slideshow": {
     "slide_type": "fragment"
    }
   },
   "outputs": [
    {
     "data": {
      "text/plain": [
       "0"
      ]
     },
     "execution_count": 31,
     "metadata": {},
     "output_type": "execute_result"
    }
   ],
   "source": [
    "len(\"\")"
   ]
  },
  {
   "cell_type": "markdown",
   "metadata": {
    "slideshow": {
     "slide_type": "slide"
    }
   },
   "source": [
    "## Comparaciones de strings"
   ]
  },
  {
   "cell_type": "markdown",
   "metadata": {
    "slideshow": {
     "slide_type": "fragment"
    }
   },
   "source": [
    "Los **operadores de comparación** se pueden utilizar sobre strings."
   ]
  },
  {
   "cell_type": "code",
   "execution_count": 32,
   "metadata": {
    "slideshow": {
     "slide_type": "fragment"
    }
   },
   "outputs": [
    {
     "data": {
      "text/plain": [
       "False"
      ]
     },
     "execution_count": 32,
     "metadata": {},
     "output_type": "execute_result"
    }
   ],
   "source": [
    "\"a\" > \"z\""
   ]
  },
  {
   "cell_type": "code",
   "execution_count": 33,
   "metadata": {
    "slideshow": {
     "slide_type": "fragment"
    }
   },
   "outputs": [
    {
     "data": {
      "text/plain": [
       "False"
      ]
     },
     "execution_count": 33,
     "metadata": {},
     "output_type": "execute_result"
    }
   ],
   "source": [
    "\"avion\" == \"barco\""
   ]
  },
  {
   "cell_type": "code",
   "execution_count": 34,
   "metadata": {
    "slideshow": {
     "slide_type": "fragment"
    }
   },
   "outputs": [
    {
     "data": {
      "text/plain": [
       "True"
      ]
     },
     "execution_count": 34,
     "metadata": {},
     "output_type": "execute_result"
    }
   ],
   "source": [
    "\"Casa\" < \"casa\""
   ]
  },
  {
   "cell_type": "markdown",
   "metadata": {
    "slideshow": {
     "slide_type": "fragment"
    }
   },
   "source": [
    "¿Cómo se decide el orden de los caracteres?"
   ]
  },
  {
   "cell_type": "markdown",
   "metadata": {
    "slideshow": {
     "slide_type": "slide"
    }
   },
   "source": [
    "### El código ASCII"
   ]
  },
  {
   "cell_type": "markdown",
   "metadata": {
    "slideshow": {
     "slide_type": "fragment"
    }
   },
   "source": [
    "El código ASCII asocia con un número decimal a los caracteres imprimibles (letras, números y símbolos) y se utilizan para decidir el ordenamiento."
   ]
  },
  {
   "cell_type": "markdown",
   "metadata": {},
   "source": [
    "<table style=\"font-size: 1em; float:center;\">\n",
    "    <thead>\n",
    "        <td style=\"border-right: 1px solid black;\">decimal</td>\n",
    "        <td style=\"border-right: 3px solid black;\">caracter</td>\n",
    "        <td style=\"border-right: 1px solid black;\">decimal</td>\n",
    "        <td>caracter</td>\n",
    "    </thead>\n",
    "    <tr>\n",
    "        <td style=\"border-right: 1px solid black;\">48</td>\n",
    "        <td style=\"border-right: 3px solid black;\">\"0\"</td>\n",
    "        <td style=\"border-right: 1px solid black;\">65</td>\n",
    "        <td >\"A\"</td>\n",
    "    </tr>\n",
    "    <tr>\n",
    "        <td style=\"border-right: 1px solid black;\">49</td>\n",
    "        <td style=\"border-right: 3px solid black;\">\"1\"</td>\n",
    "        <td style=\"border-right: 1px solid black;\">66</td>\n",
    "        <td >\"B\"</td>\n",
    "    </tr>\n",
    "    <tr>\n",
    "        <td style=\"border-right: 1px solid black;\">...</td>\n",
    "        <td style=\"border-right: 3px solid black;\">...</td>\n",
    "        <td style=\"border-right: 1px solid black;\">...</td>\n",
    "        <td >...</td>\n",
    "    </tr>\n",
    "    <tr>\n",
    "        <td style=\"border-right: 1px solid black;\">61</td>\n",
    "        <td style=\"border-right: 3px solid black;\">\"=\"</td>\n",
    "        <td style=\"border-right: 1px solid black;\">97</td>\n",
    "        <td >\"a\"</td>\n",
    "    </tr>\n",
    "    <tr>\n",
    "        <td style=\"border-right: 1px solid black;\">62</td>\n",
    "        <td style=\"border-right: 3px solid black;\">\">\"</td>\n",
    "        <td style=\"border-right: 1px solid black;\">98</td>\n",
    "        <td >\"b\"</td>\n",
    "    </tr>\n",
    "    <tr>\n",
    "        <td style=\"border-right: 1px solid black;\">...</td>\n",
    "        <td style=\"border-right: 3px solid black;\">...</td>\n",
    "        <td style=\"border-right: 1px solid black;\">...</td>\n",
    "        <td >...</td>\n",
    "    </tr>\n",
    "</table>"
   ]
  },
  {
   "cell_type": "markdown",
   "metadata": {
    "slideshow": {
     "slide_type": "slide"
    }
   },
   "source": [
    "Los strings tienen su propio ordenamiento, que considera el siguiente orden creciente:\n",
    "- Dígitos escritos como strings\n",
    "- Algunos caracteres especiales\n",
    "- Letras mayúsculas\n",
    "- Letras minúsculas"
   ]
  },
  {
   "cell_type": "code",
   "execution_count": 35,
   "metadata": {
    "slideshow": {
     "slide_type": "fragment"
    }
   },
   "outputs": [
    {
     "data": {
      "text/plain": [
       "True"
      ]
     },
     "execution_count": 35,
     "metadata": {},
     "output_type": "execute_result"
    }
   ],
   "source": [
    "#las minusculas son mayores que las minusculas. Vienen despues en el codigo ASCII\n",
    "\"a\" > \"A\""
   ]
  },
  {
   "cell_type": "markdown",
   "metadata": {
    "slideshow": {
     "slide_type": "slide"
    }
   },
   "source": [
    "## Mayúsculas y Minúsculas"
   ]
  },
  {
   "cell_type": "markdown",
   "metadata": {
    "slideshow": {
     "slide_type": "fragment"
    }
   },
   "source": [
    "Ya se ha visto que un mismo caracter escrito en mayúsculas es distinto que el mismo caracter en minúsculas."
   ]
  },
  {
   "cell_type": "code",
   "execution_count": 36,
   "metadata": {
    "slideshow": {
     "slide_type": "fragment"
    }
   },
   "outputs": [
    {
     "data": {
      "text/plain": [
       "False"
      ]
     },
     "execution_count": 36,
     "metadata": {},
     "output_type": "execute_result"
    }
   ],
   "source": [
    "#letras mayusculas son distintas de letras minusculas\n",
    "\"a\" == \"A\""
   ]
  },
  {
   "cell_type": "markdown",
   "metadata": {
    "slideshow": {
     "slide_type": "slide"
    }
   },
   "source": [
    "**IMPORTANTE:** No es posible alterar directamente un string. Se dice que es un tipo de dato inmutable."
   ]
  },
  {
   "cell_type": "code",
   "execution_count": 37,
   "metadata": {
    "slideshow": {
     "slide_type": "fragment"
    }
   },
   "outputs": [],
   "source": [
    "palabra = \"Casa\""
   ]
  },
  {
   "cell_type": "code",
   "execution_count": 38,
   "metadata": {
    "slideshow": {
     "slide_type": "fragment"
    }
   },
   "outputs": [
    {
     "ename": "TypeError",
     "evalue": "'str' object does not support item assignment",
     "output_type": "error",
     "traceback": [
      "\u001b[0;31m---------------------------------------------------------------------------\u001b[0m",
      "\u001b[0;31mTypeError\u001b[0m                                 Traceback (most recent call last)",
      "\u001b[0;32m<ipython-input-38-43b21e3704dc>\u001b[0m in \u001b[0;36m<module>\u001b[0;34m\u001b[0m\n\u001b[0;32m----> 1\u001b[0;31m \u001b[0mpalabra\u001b[0m\u001b[0;34m[\u001b[0m\u001b[0;36m0\u001b[0m\u001b[0;34m]\u001b[0m \u001b[0;34m=\u001b[0m \u001b[0;34m\"c\"\u001b[0m\u001b[0;34m\u001b[0m\u001b[0m\n\u001b[0m",
      "\u001b[0;31mTypeError\u001b[0m: 'str' object does not support item assignment"
     ]
    }
   ],
   "source": [
    "palabra[0] = \"c\""
   ]
  },
  {
   "cell_type": "markdown",
   "metadata": {
    "slideshow": {
     "slide_type": "slide"
    }
   },
   "source": [
    "Los métodos `s.upper()` y `s.lower()` permiten cambiar el string `s` a mayúsculas y minúsculas, respectivamente. "
   ]
  },
  {
   "cell_type": "markdown",
   "metadata": {
    "slideshow": {
     "slide_type": "fragment"
    }
   },
   "source": [
    "Un **método** es una **función** que opera directamente sobre una variable que es de cierto tipo de dato."
   ]
  },
  {
   "cell_type": "code",
   "execution_count": 39,
   "metadata": {
    "slideshow": {
     "slide_type": "fragment"
    }
   },
   "outputs": [],
   "source": [
    "pal = \"Progra\""
   ]
  },
  {
   "cell_type": "code",
   "execution_count": 40,
   "metadata": {
    "slideshow": {
     "slide_type": "fragment"
    }
   },
   "outputs": [
    {
     "data": {
      "text/plain": [
       "'progra'"
      ]
     },
     "execution_count": 40,
     "metadata": {},
     "output_type": "execute_result"
    }
   ],
   "source": [
    "pal.lower()"
   ]
  },
  {
   "cell_type": "code",
   "execution_count": 41,
   "metadata": {
    "slideshow": {
     "slide_type": "fragment"
    }
   },
   "outputs": [
    {
     "data": {
      "text/plain": [
       "'PROGRA'"
      ]
     },
     "execution_count": 41,
     "metadata": {},
     "output_type": "execute_result"
    }
   ],
   "source": [
    "pal.upper()"
   ]
  },
  {
   "cell_type": "markdown",
   "metadata": {
    "slideshow": {
     "slide_type": "slide"
    }
   },
   "source": [
    "`s.upper()` y `s.lower()` generan un nuevo string a partir del valor de `s`. NO MODIFICAN A `s`."
   ]
  },
  {
   "cell_type": "code",
   "execution_count": 42,
   "metadata": {
    "slideshow": {
     "slide_type": "fragment"
    }
   },
   "outputs": [
    {
     "name": "stdout",
     "output_type": "stream",
     "text": [
      "Progra\n"
     ]
    }
   ],
   "source": [
    "print(pal)"
   ]
  },
  {
   "cell_type": "markdown",
   "metadata": {
    "slideshow": {
     "slide_type": "slide"
    }
   },
   "source": [
    "# Ciclo For"
   ]
  },
  {
   "cell_type": "markdown",
   "metadata": {
    "slideshow": {
     "slide_type": "fragment"
    }
   },
   "source": [
    "- Repite sentencias una cantidad **fija** de veces.\n",
    "- Funciona sobre tipos de datos **iterables**"
   ]
  },
  {
   "cell_type": "markdown",
   "metadata": {
    "slideshow": {
     "slide_type": "fragment"
    }
   },
   "source": [
    "¿Qué significa iterable?"
   ]
  },
  {
   "cell_type": "markdown",
   "metadata": {
    "slideshow": {
     "slide_type": "fragment"
    }
   },
   "source": [
    "Un tipo de dato que se puede **iterar** es aquel que se puede recorrer sobre cada uno de sus \"elementos\" constituyentes en un ciclo."
   ]
  },
  {
   "cell_type": "markdown",
   "metadata": {
    "slideshow": {
     "slide_type": "slide"
    }
   },
   "source": [
    "**Ejemplo:** un string está compuesto por caracteres. Luego con un ciclo for se puede recorrer cada caracter de este string."
   ]
  },
  {
   "cell_type": "code",
   "execution_count": 43,
   "metadata": {
    "slideshow": {
     "slide_type": "fragment"
    }
   },
   "outputs": [
    {
     "name": "stdout",
     "output_type": "stream",
     "text": [
      "s = h\n",
      "s = o\n",
      "s = l\n",
      "s = a\n",
      "s =  \n",
      "s = m\n",
      "s = u\n",
      "s = n\n",
      "s = d\n",
      "s = o\n",
      "s = !\n"
     ]
    }
   ],
   "source": [
    "a = \"hola mundo!\"\n",
    "for s in a:\n",
    "    print(\"s = \"+str(s))"
   ]
  },
  {
   "cell_type": "markdown",
   "metadata": {
    "slideshow": {
     "slide_type": "slide"
    }
   },
   "source": [
    "**Sintaxis genérica de un Ciclo For**"
   ]
  },
  {
   "cell_type": "markdown",
   "metadata": {
    "slideshow": {
     "slide_type": "fragment"
    }
   },
   "source": [
    "```Python\n",
    "for variable in secuencia:\n",
    "    #codigo\n",
    "    a = operacion(variable)\n",
    "```"
   ]
  },
  {
   "cell_type": "markdown",
   "metadata": {
    "slideshow": {
     "slide_type": "fragment"
    }
   },
   "source": [
    "- Cada vez que se utiliza un ciclo for, se define una variable que va a tomar cada uno de los valores de `secuencia`.\n",
    "- `secuencia` debe ser un tipo de dato **iterable**."
   ]
  },
  {
   "cell_type": "markdown",
   "metadata": {
    "slideshow": {
     "slide_type": "slide"
    }
   },
   "source": [
    "# Ejercicios"
   ]
  },
  {
   "cell_type": "markdown",
   "metadata": {
    "slideshow": {
     "slide_type": "fragment"
    }
   },
   "source": [
    "**1.** Escriba un programa que indique si una palabra existe dentro de una oración. Tanto la palabra, como la oración serán ingresadas como entrada de datos."
   ]
  },
  {
   "cell_type": "code",
   "execution_count": 45,
   "metadata": {
    "slideshow": {
     "slide_type": "slide"
    }
   },
   "outputs": [
    {
     "name": "stdout",
     "output_type": "stream",
     "text": [
      "Ingrese una oracion: la mar estaba serena\n",
      "Ingrese una palabramar\n",
      "La palabra 'mar' esta contenida en 'la mar estaba serena'\n"
     ]
    }
   ],
   "source": [
    "oracion = input(\"Ingrese una oracion: \")\n",
    "palabra = input(\"Ingrese una palabra\")\n",
    "\n",
    "if palabra in oracion:\n",
    "    print(\"La palabra '\"+ str(palabra)+ \"' esta contenida en '\"+str(oracion)+\"'\")"
   ]
  },
  {
   "cell_type": "markdown",
   "metadata": {
    "slideshow": {
     "slide_type": "slide"
    }
   },
   "source": [
    "**2.** Modifique el programa anterior para se acepte encontrar palabras dentro de una oración, sin importar si están escritas en diferente combinación de mayúsculas/minúsculas."
   ]
  },
  {
   "cell_type": "code",
   "execution_count": 46,
   "metadata": {
    "slideshow": {
     "slide_type": "slide"
    }
   },
   "outputs": [
    {
     "name": "stdout",
     "output_type": "stream",
     "text": [
      "Ingrese una oracion: La Mar Estaba Serena\n",
      "Ingrese una palabraMAR\n",
      "La palabra 'MAR' esta contenida en 'La Mar Estaba Serena'\n"
     ]
    }
   ],
   "source": [
    "oracion = input(\"Ingrese una oracion: \")\n",
    "palabra = input(\"Ingrese una palabra\")\n",
    "\n",
    "if palabra.lower() in oracion.lower():\n",
    "    print(\"La palabra '\"+ str(palabra)+ \"' esta contenida en '\"+str(oracion)+\"'\")"
   ]
  },
  {
   "cell_type": "markdown",
   "metadata": {
    "slideshow": {
     "slide_type": "slide"
    }
   },
   "source": [
    "**3.** Escriba un programa que pida al usuario dos palabras, y que indique cuál de ellas es la más larga y por cuántas letras lo es."
   ]
  },
  {
   "cell_type": "code",
   "execution_count": 47,
   "metadata": {
    "slideshow": {
     "slide_type": "fragment"
    }
   },
   "outputs": [
    {
     "name": "stdout",
     "output_type": "stream",
     "text": [
      "Palabra 1: paralelepipedo\n",
      "Palabra 2: sol\n",
      "La palabra paralelepipedo tiene 11 letras mas que la palabra sol\n"
     ]
    }
   ],
   "source": [
    "palabra1 = input(\"Palabra 1: \")\n",
    "palabra2 = input(\"Palabra 2: \")\n",
    "\n",
    "largo1 = len(palabra1)\n",
    "largo2 = len(palabra2)\n",
    "\n",
    "if largo1 > largo2:\n",
    "    print(\"La palabra\",palabra1,\"tiene\",largo1-largo2,\"letras mas que la palabra\",palabra2)\n",
    "elif largo1 < largo2:\n",
    "    print(\"La palabra\",palabra2,\"tiene\",largo2-largo1,\"letras mas que la palabra\",palabra1)\n",
    "else:\n",
    "    print(\"La palabra\",palabra1,\"tiene el mismo largo que la palabra\",palabra2)"
   ]
  },
  {
   "cell_type": "markdown",
   "metadata": {
    "slideshow": {
     "slide_type": "slide"
    }
   },
   "source": [
    "**4.** Escriba la función `contar(letra, palabra)` que retorna cuántas veces aparece la letra en la palabra.\n",
    "\n",
    "```\n",
    ">>> contar(‘a’, ‘abracadabra’)\n",
    "5\n",
    ">>> contar(‘z’, ‘abracadabra’)\n",
    "0\n",
    "```"
   ]
  },
  {
   "cell_type": "code",
   "execution_count": 2,
   "metadata": {
    "slideshow": {
     "slide_type": "fragment"
    }
   },
   "outputs": [],
   "source": [
    "def contar(letra, palabra):\n",
    "    contador = 0\n",
    "    for i in palabra:\n",
    "        if i == letra:\n",
    "            contador +=1\n",
    "    return contador"
   ]
  },
  {
   "cell_type": "code",
   "execution_count": 4,
   "metadata": {
    "slideshow": {
     "slide_type": "fragment"
    }
   },
   "outputs": [],
   "source": [
    "s = \"paralelepipedo\""
   ]
  },
  {
   "cell_type": "code",
   "execution_count": 5,
   "metadata": {
    "slideshow": {
     "slide_type": "fragment"
    }
   },
   "outputs": [
    {
     "name": "stdout",
     "output_type": "stream",
     "text": [
      "2\n"
     ]
    }
   ],
   "source": [
    "print(contar(\"a\",s))"
   ]
  },
  {
   "cell_type": "code",
   "execution_count": 7,
   "metadata": {
    "slideshow": {
     "slide_type": "fragment"
    }
   },
   "outputs": [
    {
     "name": "stdout",
     "output_type": "stream",
     "text": [
      "3\n"
     ]
    }
   ],
   "source": [
    "print(contar(\"p\",s))"
   ]
  },
  {
   "cell_type": "code",
   "execution_count": null,
   "metadata": {
    "slideshow": {
     "slide_type": "skip"
    }
   },
   "outputs": [],
   "source": []
  }
 ],
 "metadata": {
  "celltoolbar": "Slideshow",
  "kernelspec": {
   "display_name": "Python 3",
   "language": "python",
   "name": "python3"
  },
  "language_info": {
   "codemirror_mode": {
    "name": "ipython",
    "version": 3
   },
   "file_extension": ".py",
   "mimetype": "text/x-python",
   "name": "python",
   "nbconvert_exporter": "python",
   "pygments_lexer": "ipython3",
   "version": "3.6.5"
  }
 },
 "nbformat": 4,
 "nbformat_minor": 2
}
